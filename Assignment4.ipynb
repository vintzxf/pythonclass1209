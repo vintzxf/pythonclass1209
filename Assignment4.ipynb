{
 "cells": [
  {
   "cell_type": "code",
   "execution_count": 10,
   "id": "055be63c",
   "metadata": {},
   "outputs": [
    {
     "name": "stdout",
     "output_type": "stream",
     "text": [
      "please provide a number:40\n",
      "please provide a number:30\n",
      "40 is > 30\n",
      "30 is < 40\n"
     ]
    }
   ],
   "source": [
    "#number2\n",
    "num1 = int(input('please provide a number:'))\n",
    "num2 = int(input('please provide a number:'))\n",
    "if num1 > num2:\n",
    "    print(f'{num1} is > {num2}')\n",
    "if num2 < num1:\n",
    "    print(f'{num2} is < {num1}')"
   ]
  },
  {
   "cell_type": "code",
   "execution_count": 12,
   "id": "15f39a0c",
   "metadata": {},
   "outputs": [
    {
     "name": "stdout",
     "output_type": "stream",
     "text": [
      "please enter your age:20\n",
      "please enter your age:22\n",
      "please enter your age:18\n",
      "the oldest person is john\n",
      "the youngest person is tobi\n"
     ]
    }
   ],
   "source": [
    "#number3\n",
    "ade = int(input('please enter your age:'))\n",
    "john = int(input('please enter your age:'))\n",
    "tobi = int(input('please enter your age:'))\n",
    "if (ade >= john) and (ade >= tobi):\n",
    "   older = 'ade'\n",
    "if (john >= ade) and (john >= tobi):\n",
    "   older = 'john' \n",
    "else:\n",
    "   older = 'tobi'\n",
    "print(f'the oldest person is {older}')\n",
    "\n",
    "if (ade <= john) and (ade <= tobi):\n",
    "   younger = 'ade'\n",
    "if (john <= ade) and (john <= tobi): \n",
    "   younger = 'john'\n",
    "else:\n",
    "   younger = 'tobi'\n",
    "print(f'the youngest person is {younger}')"
   ]
  },
  {
   "cell_type": "code",
   "execution_count": 34,
   "id": "5bcd196f",
   "metadata": {},
   "outputs": [
    {
     "name": "stdout",
     "output_type": "stream",
     "text": [
      "number of classes held:40\n",
      "number of classes attended:32\n",
      "125\n",
      "your attendance in class is 125.0% and you are cleared for exams\n"
     ]
    }
   ],
   "source": [
    "#number4\n",
    "num1 = int(input('number of classes held:'))\n",
    "num2 = int(input('number of classes attended:'))\n",
    "\n",
    "percentage_of_class = (num1 / num2) * 100\n",
    "print(int(percentage_of_class))\n",
    "if percentage_of_class >= 70:\n",
    "   print(f'your attendance in class is {percentage_of_class}% and you are cleared for exams')\n",
    "elif percentage_of_class <= 60:\n",
    "   print(f'your attendance in class is {percentage_of_class}% and you are not cleared for exams') \n"
   ]
  },
  {
   "cell_type": "code",
   "execution_count": 9,
   "id": "6033ee53",
   "metadata": {},
   "outputs": [
    {
     "ename": "IndentationError",
     "evalue": "unexpected indent (2190511589.py, line 6)",
     "output_type": "error",
     "traceback": [
      "\u001b[1;36m  Input \u001b[1;32mIn [9]\u001b[1;36m\u001b[0m\n\u001b[1;33m    if {Gender} != 'm' and {age} <= 45:\u001b[0m\n\u001b[1;37m    ^\u001b[0m\n\u001b[1;31mIndentationError\u001b[0m\u001b[1;31m:\u001b[0m unexpected indent\n"
     ]
    }
   ],
   "source": [
    "Gender = input('m/f?')\n",
    "while {Gender} != 'm' or Gender != 'f':\n",
    "     if {Gender} != 'f':\n",
    "            print('you can work in urban areas')\n",
    "age = input('Enter your age:')\n",
    "     if {Gender} != 'm' and {age} <= 45:\n",
    "            print(f'you can work anywhere')\n",
    "\n",
    "    "
   ]
  },
  {
   "cell_type": "code",
   "execution_count": null,
   "id": "16b127dd",
   "metadata": {},
   "outputs": [],
   "source": []
  }
 ],
 "metadata": {
  "kernelspec": {
   "display_name": "Python 3 (ipykernel)",
   "language": "python",
   "name": "python3"
  },
  "language_info": {
   "codemirror_mode": {
    "name": "ipython",
    "version": 3
   },
   "file_extension": ".py",
   "mimetype": "text/x-python",
   "name": "python",
   "nbconvert_exporter": "python",
   "pygments_lexer": "ipython3",
   "version": "3.9.12"
  }
 },
 "nbformat": 4,
 "nbformat_minor": 5
}
