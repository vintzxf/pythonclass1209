{
 "cells": [
  {
   "cell_type": "code",
   "execution_count": 1,
   "id": "413355d3",
   "metadata": {},
   "outputs": [],
   "source": [
    "import pymysql"
   ]
  },
  {
   "cell_type": "code",
   "execution_count": 2,
   "id": "5231d471",
   "metadata": {},
   "outputs": [],
   "source": [
    "mydb = pymysql.connect(\n",
    "    host = 'localhost',\n",
    "    user = 'root',\n",
    "    password = 'simba911'\n",
    ")\n",
    "mycursor = mydb.cursor()"
   ]
  },
  {
   "cell_type": "code",
   "execution_count": 3,
   "id": "3b882ab8",
   "metadata": {},
   "outputs": [
    {
     "data": {
      "text/plain": [
       "1"
      ]
     },
     "execution_count": 3,
     "metadata": {},
     "output_type": "execute_result"
    }
   ],
   "source": [
    "mycursor.execute('create database storemanagementsystem')"
   ]
  },
  {
   "cell_type": "code",
   "execution_count": 4,
   "id": "75bd6121",
   "metadata": {},
   "outputs": [],
   "source": [
    "mydb = pymysql.connect(\n",
    "    host = 'localhost',\n",
    "    user = 'root',\n",
    "    password = 'simba911',\n",
    "    database='storemanagementsystem'\n",
    ")\n",
    "mycursor = mydb.cursor()"
   ]
  },
  {
   "cell_type": "code",
   "execution_count": 8,
   "id": "d2b71d00",
   "metadata": {},
   "outputs": [
    {
     "data": {
      "text/plain": [
       "0"
      ]
     },
     "execution_count": 8,
     "metadata": {},
     "output_type": "execute_result"
    }
   ],
   "source": [
    "mycursor.execute('create table electronicsdetails(StoreIDnum int not null primary key,ItemName varchar(255) not null,SerialNumber int not null,ItemType varchar(255) not null,ItemBrand varchar(255) not null,ItemQuantity int not null)')"
   ]
  },
  {
   "cell_type": "code",
   "execution_count": 9,
   "id": "56fa5cce",
   "metadata": {},
   "outputs": [
    {
     "data": {
      "text/plain": [
       "0"
      ]
     },
     "execution_count": 9,
     "metadata": {},
     "output_type": "execute_result"
    }
   ],
   "source": [
    "mycursor.execute('create table weardetails(StoreIDnum int not null primary key,ItemName varchar(255) not null,SerialNumber int not null,ItemType varchar(255) not null,ItemBrand varchar(255) not null,ItemQuantity int not null)')"
   ]
  },
  {
   "cell_type": "code",
   "execution_count": 10,
   "id": "8acfefce",
   "metadata": {},
   "outputs": [
    {
     "data": {
      "text/plain": [
       "0"
      ]
     },
     "execution_count": 10,
     "metadata": {},
     "output_type": "execute_result"
    }
   ],
   "source": [
    "mycursor.execute('create table phonedetails(StoreIDnum int not null primary key,ItemName varchar(255) not null,SerialNumber int not null,ItemType varchar(255) not null,ItemBrand varchar(255) not null,ItemQuantity int not null)')"
   ]
  },
  {
   "cell_type": "code",
   "execution_count": 11,
   "id": "366d0d98",
   "metadata": {},
   "outputs": [
    {
     "data": {
      "text/plain": [
       "0"
      ]
     },
     "execution_count": 11,
     "metadata": {},
     "output_type": "execute_result"
    }
   ],
   "source": [
    "mycursor.execute('create table computerdetails(StoreIDnum int not null primary key,ItemName varchar(255) not null,SerialNumber int not null,ItemType varchar(255) not null,ItemBrand varchar(255) not null,ItemQuantity int not null)')"
   ]
  },
  {
   "cell_type": "code",
   "execution_count": 15,
   "id": "5d3f5bbe",
   "metadata": {},
   "outputs": [],
   "source": [
    "sql = 'insert into electronicsdetails(StoreIDnum,ItemName,SerialNumber,ItemType,ItemBrand,ItemQuantity) values(%s,%s,%s,%s,%s,%s)'\n",
    "values = [(1,'Refrigirator','244245','Storage device','LG','250'),\n",
    "          (2,'Electriccal kettles','345568','Kitchen equipment','Sony','350'),\n",
    "          (3,'Microwave','344589','Kitchen equipment','Lenovo','400'),\n",
    "          (4,'Speakers','457898','Audio/Tv','HP','400'),\n",
    "          (5,'Television','135606','Entertainment','Samsung','500'),\n",
    "          (6,'DVD/CD Players','2022378','video/audio device','Sony','400'),\n",
    "          (7,'Dish Washers','165849','Kitchen device','LG','800'),\n",
    "          (8,'Standing fans','033258','cooling device','Samsung','550'),\n",
    "          (9,'Vaccum cleaners','062945','cleaning equipment','Panasonic','300'),\n",
    "          (10,'Blenders','904245','Kitchen equipment','LG','400')]\n",
    "mycursor.executemany(sql,values)\n",
    "mydb.commit()"
   ]
  },
  {
   "cell_type": "code",
   "execution_count": 16,
   "id": "77f71e40",
   "metadata": {},
   "outputs": [],
   "source": [
    "sql = 'insert into weardetails(StoreIDnum,ItemName,SerialNumber,ItemType,ItemBrand,ItemQuantity) values(%s,%s,%s,%s,%s,%s)'\n",
    "values = [(1,'Torso','203859','clothing','Boss','2000'),\n",
    "          (2,'Jeans','350648','clothing','Gucci','3500'),\n",
    "          (3,'Trousers','344589','clothing','versace','4000'),\n",
    "          (4,'Shoes','457898','clothing','Gucci','7000'),\n",
    "          (5,'Wrist watch','135606','Accessories','Rolex','18000'),\n",
    "          (6,'Underwears','2022378','clothing','Adidas','40000'),\n",
    "          (7,'Hats','165849','Accessories','Luis vutton','8000'),\n",
    "          (8,'Socks','033258','clothing','Adidas','5500'),\n",
    "          (9,'Gym wears','062945','clothing','Nike','3000'),\n",
    "          (10,'Blazzers/Suits','904245','clothing','Chanel','4000')]\n",
    "mycursor.executemany(sql,values)\n",
    "mydb.commit()"
   ]
  },
  {
   "cell_type": "code",
   "execution_count": 17,
   "id": "9eddf1d9",
   "metadata": {},
   "outputs": [],
   "source": [
    "sql = 'insert into phonedetails(StoreIDnum,ItemName,SerialNumber,ItemType,ItemBrand,ItemQuantity) values(%s,%s,%s,%s,%s,%s)'\n",
    "values = [(1,'Apple Ipad','004245','Gadget','Apple','850'),\n",
    "          (2,'Samsung s10','200568','Mobile smartphone','samsung','850'),\n",
    "          (3,'Tecno spark9','006579','Mobile smartphone','Tecno','900'),\n",
    "          (4,'Infinix Note 8i','056898','Mobile smartphone','Infinix','700'),\n",
    "          (5,'Samsung Fold','233606','Mobile smartphone','Samsung','800'),\n",
    "          (6,'Apple iphone xs','981378','Mobile smartphone','Apple','900'),\n",
    "          (7,'Apple iphone 14','165849','Mobile smartphone','Apple','700'),\n",
    "          (8,'Nokia note5','133258','Mobile smartphone','Nokia','850'),\n",
    "          (9,'Samsung tab','062945','Mobile Gadget','Samsung','800'),\n",
    "          (10,'Oppo reno 3','110245','Mobile smartphone','Oppo','700')]\n",
    "mycursor.executemany(sql,values)\n",
    "mydb.commit()"
   ]
  },
  {
   "cell_type": "code",
   "execution_count": 18,
   "id": "e675b494",
   "metadata": {},
   "outputs": [],
   "source": [
    "sql = 'insert into computerdetails(StoreIDnum,ItemName,SerialNumber,ItemType,ItemBrand,ItemQuantity) values(%s,%s,%s,%s,%s,%s)'\n",
    "values = [(1,'Macbook pro','004245','laptop','Apple','950'),\n",
    "          (2,'Lenove i7','200568','Desktop computer','Lenove','750'),\n",
    "          (3,'Hp pavilion','006579','Desktop computer','HP','900'),\n",
    "          (4,'Lenovo v130','056898','Laptop','Lenovo','700'),\n",
    "          (5,'Lenovo intel core i3','233606','Laptop','Lenovo','800'),\n",
    "          (6,'Hp pro desk 600','981378','Desktop computer','Acer','900'),\n",
    "          (7,'Hp pro 6300','165849','Desktop computer','HP','700'),\n",
    "          (8,'Macbook pro v41','133258','Laptop','Apple','850'),\n",
    "          (9,'Samsung laptop','062945','Laptop','Samsung','800'),\n",
    "          (10,'Lenovo a360','110245','Laptop','Hp','700')]\n",
    "mycursor.executemany(sql,values)\n",
    "mydb.commit()"
   ]
  },
  {
   "cell_type": "code",
   "execution_count": 19,
   "id": "b157167a",
   "metadata": {},
   "outputs": [
    {
     "name": "stdout",
     "output_type": "stream",
     "text": [
      "(1, 'Refrigirator', 244245, 'Storage device', 'LG', 250)\n",
      "(2, 'Electriccal kettles', 345568, 'Kitchen equipment', 'Sony', 350)\n",
      "(3, 'Microwave', 344589, 'Kitchen equipment', 'Lenovo', 400)\n",
      "(4, 'Speakers', 457898, 'Audio/Tv', 'HP', 400)\n",
      "(5, 'Television', 135606, 'Entertainment', 'Samsung', 500)\n",
      "(6, 'DVD/CD Players', 2022378, 'video/audio device', 'Sony', 400)\n",
      "(7, 'Dish Washers', 165849, 'Kitchen device', 'LG', 800)\n",
      "(8, 'Standing fans', 33258, 'cooling device', 'Samsung', 550)\n",
      "(9, 'Vaccum cleaners', 62945, 'cleaning equipment', 'Panasonic', 300)\n",
      "(10, 'Blenders', 904245, 'Kitchen equipment', 'LG', 400)\n"
     ]
    }
   ],
   "source": [
    "mycursor.execute('select * from electronicsdetails')\n",
    "for x in mycursor:\n",
    "    print(x)"
   ]
  },
  {
   "cell_type": "code",
   "execution_count": 20,
   "id": "a4ffeb15",
   "metadata": {},
   "outputs": [
    {
     "name": "stdout",
     "output_type": "stream",
     "text": [
      "(1, 'Torso', 203859, 'clothing', 'Boss', 2000)\n",
      "(2, 'Jeans', 350648, 'clothing', 'Gucci', 3500)\n",
      "(3, 'Trousers', 344589, 'clothing', 'versace', 4000)\n",
      "(4, 'Shoes', 457898, 'clothing', 'Gucci', 7000)\n",
      "(5, 'Wrist watch', 135606, 'Accessories', 'Rolex', 18000)\n",
      "(6, 'Underwears', 2022378, 'clothing', 'Adidas', 40000)\n",
      "(7, 'Hats', 165849, 'Accessories', 'Luis vutton', 8000)\n",
      "(8, 'Socks', 33258, 'clothing', 'Adidas', 5500)\n",
      "(9, 'Gym wears', 62945, 'clothing', 'Nike', 3000)\n",
      "(10, 'Blazzers/Suits', 904245, 'clothing', 'Chanel', 4000)\n"
     ]
    }
   ],
   "source": [
    "mycursor.execute('select * from weardetails')\n",
    "for x in mycursor:\n",
    "    print(x)"
   ]
  },
  {
   "cell_type": "code",
   "execution_count": 21,
   "id": "6ce40393",
   "metadata": {},
   "outputs": [
    {
     "name": "stdout",
     "output_type": "stream",
     "text": [
      "(1, 'Apple Ipad', 4245, 'Gadget', 'Apple', 850)\n",
      "(2, 'Samsung s10', 200568, 'Mobile smartphone', 'samsung', 850)\n",
      "(3, 'Tecno spark9', 6579, 'Mobile smartphone', 'Tecno', 900)\n",
      "(4, 'Infinix Note 8i', 56898, 'Mobile smartphone', 'Infinix', 700)\n",
      "(5, 'Samsung Fold', 233606, 'Mobile smartphone', 'Samsung', 800)\n",
      "(6, 'Apple iphone xs', 981378, 'Mobile smartphone', 'Apple', 900)\n",
      "(7, 'Apple iphone 14', 165849, 'Mobile smartphone', 'Apple', 700)\n",
      "(8, 'Nokia note5', 133258, 'Mobile smartphone', 'Nokia', 850)\n",
      "(9, 'Samsung tab', 62945, 'Mobile Gadget', 'Samsung', 800)\n",
      "(10, 'Oppo reno 3', 110245, 'Mobile smartphone', 'Oppo', 700)\n"
     ]
    }
   ],
   "source": [
    "mycursor.execute('select * from phonedetails')\n",
    "for x in mycursor:\n",
    "    print(x)"
   ]
  },
  {
   "cell_type": "code",
   "execution_count": 22,
   "id": "b41e596b",
   "metadata": {},
   "outputs": [
    {
     "name": "stdout",
     "output_type": "stream",
     "text": [
      "(1, 'Macbook pro', 4245, 'laptop', 'Apple', 950)\n",
      "(2, 'Lenove i7', 200568, 'Desktop computer', 'Lenove', 750)\n",
      "(3, 'Hp pavilion', 6579, 'Desktop computer', 'HP', 900)\n",
      "(4, 'Lenovo v130', 56898, 'Laptop', 'Lenovo', 700)\n",
      "(5, 'Lenovo intel core i3', 233606, 'Laptop', 'Lenovo', 800)\n",
      "(6, 'Hp pro desk 600', 981378, 'Desktop computer', 'Acer', 900)\n",
      "(7, 'Hp pro 6300', 165849, 'Desktop computer', 'HP', 700)\n",
      "(8, 'Macbook pro v41', 133258, 'Laptop', 'Apple', 850)\n",
      "(9, 'Samsung laptop', 62945, 'Laptop', 'Samsung', 800)\n",
      "(10, 'Lenovo a360', 110245, 'Laptop', 'Hp', 700)\n"
     ]
    }
   ],
   "source": [
    "mycursor.execute('select * from computerdetails')\n",
    "for x in mycursor:\n",
    "    print(x)"
   ]
  },
  {
   "cell_type": "code",
   "execution_count": null,
   "id": "1ac5e12d",
   "metadata": {},
   "outputs": [],
   "source": []
  }
 ],
 "metadata": {
  "kernelspec": {
   "display_name": "Python 3 (ipykernel)",
   "language": "python",
   "name": "python3"
  },
  "language_info": {
   "codemirror_mode": {
    "name": "ipython",
    "version": 3
   },
   "file_extension": ".py",
   "mimetype": "text/x-python",
   "name": "python",
   "nbconvert_exporter": "python",
   "pygments_lexer": "ipython3",
   "version": "3.9.12"
  }
 },
 "nbformat": 4,
 "nbformat_minor": 5
}
