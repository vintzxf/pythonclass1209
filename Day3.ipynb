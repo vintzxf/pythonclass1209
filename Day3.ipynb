{
 "cells": [
  {
   "cell_type": "code",
   "execution_count": 1,
   "id": "2e0c06a3",
   "metadata": {},
   "outputs": [
    {
     "name": "stdout",
     "output_type": "stream",
     "text": [
      "<class 'tuple'>\n"
     ]
    }
   ],
   "source": [
    "numbers = (4,75,50,52,4,82,80,90,12,5,6,4,87,90) \n",
    "print(type(numbers))"
   ]
  },
  {
   "cell_type": "code",
   "execution_count": 2,
   "id": "ccad6390",
   "metadata": {},
   "outputs": [
    {
     "name": "stdout",
     "output_type": "stream",
     "text": [
      "14\n"
     ]
    }
   ],
   "source": [
    "print(len(numbers))"
   ]
  },
  {
   "cell_type": "code",
   "execution_count": 3,
   "id": "b78c4e63",
   "metadata": {},
   "outputs": [
    {
     "name": "stdout",
     "output_type": "stream",
     "text": [
      "80\n"
     ]
    }
   ],
   "source": [
    "print(numbers[6])"
   ]
  },
  {
   "cell_type": "code",
   "execution_count": 4,
   "id": "74d6d0a4",
   "metadata": {},
   "outputs": [
    {
     "name": "stdout",
     "output_type": "stream",
     "text": [
      "80\n"
     ]
    }
   ],
   "source": [
    "print(numbers[-8])"
   ]
  },
  {
   "cell_type": "code",
   "execution_count": 5,
   "id": "5e430224",
   "metadata": {},
   "outputs": [
    {
     "name": "stdout",
     "output_type": "stream",
     "text": [
      "(4, 82, 80, 90, 12)\n"
     ]
    }
   ],
   "source": [
    "print(numbers[4:9])"
   ]
  },
  {
   "cell_type": "code",
   "execution_count": 6,
   "id": "e7bba708",
   "metadata": {},
   "outputs": [
    {
     "name": "stdout",
     "output_type": "stream",
     "text": [
      "False\n"
     ]
    }
   ],
   "source": [
    "print(25 in numbers)"
   ]
  },
  {
   "cell_type": "code",
   "execution_count": 7,
   "id": "b03f56bb",
   "metadata": {},
   "outputs": [
    {
     "data": {
      "text/plain": [
       "3"
      ]
     },
     "execution_count": 7,
     "metadata": {},
     "output_type": "execute_result"
    }
   ],
   "source": [
    "numbers.count(4)"
   ]
  },
  {
   "cell_type": "code",
   "execution_count": 8,
   "id": "70ecd1ed",
   "metadata": {},
   "outputs": [
    {
     "data": {
      "text/plain": [
       "7"
      ]
     },
     "execution_count": 8,
     "metadata": {},
     "output_type": "execute_result"
    }
   ],
   "source": [
    "numbers.index(90)"
   ]
  },
  {
   "cell_type": "code",
   "execution_count": 35,
   "id": "9bad35c5",
   "metadata": {},
   "outputs": [],
   "source": [
    "items = ['cup','`Apple','Spoon','Tray','lemon']"
   ]
  },
  {
   "cell_type": "code",
   "execution_count": 36,
   "id": "0c0f1882",
   "metadata": {},
   "outputs": [
    {
     "name": "stdout",
     "output_type": "stream",
     "text": [
      "['cup', 'Apple', 'Spoon', 'Tray', 'lemon', 'plate']\n"
     ]
    }
   ],
   "source": [
    "items.append('plate')\n",
    "print(items)"
   ]
  },
  {
   "cell_type": "code",
   "execution_count": 37,
   "id": "0773b3e8",
   "metadata": {},
   "outputs": [
    {
     "name": "stdout",
     "output_type": "stream",
     "text": [
      "['cup', 'Apple', 'Spoon', 'Tray', 'lemon', 'plate', 'Apple', 'Strawaberry', 'Coconut', 'cup', 'pear']\n"
     ]
    }
   ],
   "source": [
    "new_value = ['Apple','Strawaberry','Coconut','cup','pear']\n",
    "items.extend(new_value)\n",
    "print(items)"
   ]
  },
  {
   "cell_type": "code",
   "execution_count": 38,
   "id": "7f174ce4",
   "metadata": {},
   "outputs": [
    {
     "name": "stdout",
     "output_type": "stream",
     "text": [
      "['cup', 'Apple', 'Spoon', 'Tray', 'pencil', 'lemon', 'plate', 'Apple', 'Strawaberry', 'Coconut', 'cup', 'pear']\n"
     ]
    }
   ],
   "source": [
    "items.insert(4,'pencil')\n",
    "print(items)"
   ]
  },
  {
   "cell_type": "code",
   "execution_count": 39,
   "id": "f8a9f4f7",
   "metadata": {},
   "outputs": [
    {
     "name": "stdout",
     "output_type": "stream",
     "text": [
      "['pear', 'cup', 'Coconut', 'Strawaberry', 'Apple', 'plate', 'lemon', 'pencil', 'Tray', 'Spoon', 'Apple', 'cup']\n"
     ]
    }
   ],
   "source": [
    "items.reverse()\n",
    "print(items)"
   ]
  },
  {
   "cell_type": "code",
   "execution_count": 40,
   "id": "7dd6510f",
   "metadata": {},
   "outputs": [
    {
     "name": "stdout",
     "output_type": "stream",
     "text": [
      "['Apple', 'Apple', 'Coconut', 'Spoon', 'Strawaberry', 'Tray', 'cup', 'cup', 'lemon', 'pear', 'pencil', 'plate']\n"
     ]
    }
   ],
   "source": [
    "items.sort()\n",
    "print(items)"
   ]
  },
  {
   "cell_type": "code",
   "execution_count": 42,
   "id": "6cef83db",
   "metadata": {},
   "outputs": [
    {
     "name": "stdout",
     "output_type": "stream",
     "text": [
      "['Apple', 'Apple', 'Coconut', 'Spoon', 'Strawaberry', 'Tray', 'cup', 'cup', 'lemon', 'pear', 'pencil']\n"
     ]
    }
   ],
   "source": [
    "items.pop()\n",
    "print(items)"
   ]
  },
  {
   "cell_type": "code",
   "execution_count": 43,
   "id": "ea1bd12f",
   "metadata": {
    "scrolled": true
   },
   "outputs": [
    {
     "name": "stdout",
     "output_type": "stream",
     "text": [
      "['Apple', 'Apple', 'Coconut', 'Spoon', 'Strawaberry', 'cup', 'cup', 'lemon', 'pear', 'pencil']\n"
     ]
    }
   ],
   "source": [
    "items.pop(5)\n",
    "print(items)"
   ]
  },
  {
   "cell_type": "code",
   "execution_count": 44,
   "id": "07c67ac6",
   "metadata": {},
   "outputs": [],
   "source": [
    "items.remove('cup')"
   ]
  },
  {
   "cell_type": "code",
   "execution_count": 45,
   "id": "fb576650",
   "metadata": {},
   "outputs": [
    {
     "name": "stdout",
     "output_type": "stream",
     "text": [
      "['Apple', 'Apple', 'Coconut', 'Spoon', 'Strawaberry', 'cup', 'lemon', 'pear', 'pencil']\n"
     ]
    }
   ],
   "source": [
    "print(items)"
   ]
  },
  {
   "cell_type": "code",
   "execution_count": 47,
   "id": "b5eb820a",
   "metadata": {},
   "outputs": [
    {
     "name": "stdout",
     "output_type": "stream",
     "text": [
      "['Apple', 'Apple', 'Coconut', 'Spoon', 'Strawaberry', 'cup', 'lemon', 'pear', 'pencil']\n"
     ]
    }
   ],
   "source": [
    "items_copy = items.copy()\n",
    "print(items_copy)"
   ]
  },
  {
   "cell_type": "code",
   "execution_count": 48,
   "id": "77122835",
   "metadata": {},
   "outputs": [
    {
     "name": "stdout",
     "output_type": "stream",
     "text": [
      "[]\n"
     ]
    }
   ],
   "source": [
    "items_copy.clear()\n",
    "print(items_copy)"
   ]
  },
  {
   "cell_type": "code",
   "execution_count": 49,
   "id": "be36a646",
   "metadata": {},
   "outputs": [
    {
     "ename": "NameError",
     "evalue": "name 'items_copy' is not defined",
     "output_type": "error",
     "traceback": [
      "\u001b[1;31m---------------------------------------------------------------------------\u001b[0m",
      "\u001b[1;31mNameError\u001b[0m                                 Traceback (most recent call last)",
      "Input \u001b[1;32mIn [49]\u001b[0m, in \u001b[0;36m<cell line: 3>\u001b[1;34m()\u001b[0m\n\u001b[0;32m      1\u001b[0m \u001b[38;5;66;03m#\u001b[39;00m\n\u001b[0;32m      2\u001b[0m \u001b[38;5;28;01mdel\u001b[39;00m(items_copy)\n\u001b[1;32m----> 3\u001b[0m \u001b[38;5;28mprint\u001b[39m(\u001b[43mitems_copy\u001b[49m)\n",
      "\u001b[1;31mNameError\u001b[0m: name 'items_copy' is not defined"
     ]
    }
   ],
   "source": [
    "#\n",
    "del(items_copy)\n",
    "print(items_copy)"
   ]
  },
  {
   "cell_type": "code",
   "execution_count": 53,
   "id": "67fefb21",
   "metadata": {},
   "outputs": [
    {
     "name": "stdout",
     "output_type": "stream",
     "text": [
      "45\n"
     ]
    }
   ],
   "source": [
    "details = {\n",
    "    'name':'ade',\n",
    "    'age':45,\n",
    "    'gender':'male'\n",
    "}\n",
    "print(details['age'])"
   ]
  },
  {
   "cell_type": "code",
   "execution_count": 54,
   "id": "f36f63db",
   "metadata": {},
   "outputs": [
    {
     "name": "stdout",
     "output_type": "stream",
     "text": [
      "dict_keys(['name', 'age', 'gender'])\n"
     ]
    }
   ],
   "source": [
    "print(details.keys())"
   ]
  },
  {
   "cell_type": "code",
   "execution_count": 56,
   "id": "b52bee82",
   "metadata": {},
   "outputs": [
    {
     "name": "stdout",
     "output_type": "stream",
     "text": [
      "dict_values(['ade', 45, 'male'])\n"
     ]
    }
   ],
   "source": [
    "print(details.values())"
   ]
  },
  {
   "cell_type": "code",
   "execution_count": 57,
   "id": "b26e4454",
   "metadata": {},
   "outputs": [
    {
     "name": "stdout",
     "output_type": "stream",
     "text": [
      "{'name': 'ade', 'age': 50, 'gender': 'male'}\n"
     ]
    }
   ],
   "source": [
    "r = {'age':50}\n",
    "details.update(r)\n",
    "print(details)"
   ]
  },
  {
   "cell_type": "code",
   "execution_count": 59,
   "id": "fff37bf7",
   "metadata": {},
   "outputs": [
    {
     "data": {
      "text/plain": [
       "dict_items([('name', 'ade'), ('age', 50), ('gender', 'male')])"
      ]
     },
     "execution_count": 59,
     "metadata": {},
     "output_type": "execute_result"
    }
   ],
   "source": [
    "details.items()"
   ]
  },
  {
   "cell_type": "code",
   "execution_count": 60,
   "id": "b0ef3a19",
   "metadata": {},
   "outputs": [
    {
     "name": "stdout",
     "output_type": "stream",
     "text": [
      "Samuel\n"
     ]
    }
   ],
   "source": [
    "records = {\n",
    "    'name':('Job','Jane','Samuel','Faith'),\n",
    "    'age':(25,27.30,21),\n",
    "    'gender':('Male','Female','Male','Female')\n",
    "}\n",
    "print(records['name'][2])"
   ]
  },
  {
   "cell_type": "code",
   "execution_count": null,
   "id": "fb96ac85",
   "metadata": {},
   "outputs": [],
   "source": []
  }
 ],
 "metadata": {
  "kernelspec": {
   "display_name": "Python 3 (ipykernel)",
   "language": "python",
   "name": "python3"
  },
  "language_info": {
   "codemirror_mode": {
    "name": "ipython",
    "version": 3
   },
   "file_extension": ".py",
   "mimetype": "text/x-python",
   "name": "python",
   "nbconvert_exporter": "python",
   "pygments_lexer": "ipython3",
   "version": "3.9.12"
  }
 },
 "nbformat": 4,
 "nbformat_minor": 5
}
