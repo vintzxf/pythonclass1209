{
 "cells": [
  {
   "cell_type": "code",
   "execution_count": 11,
   "id": "0fe74c9e",
   "metadata": {},
   "outputs": [
    {
     "name": "stdout",
     "output_type": "stream",
     "text": [
      "please provide first number1\n",
      "please provide second number2\n",
      "please pick your option(+,-,/,*)+\n",
      "1 + 2 = 3\n"
     ]
    }
   ],
   "source": [
    "try:\n",
    "    num1 = int(input('please provide first number'))\n",
    "    num2 = int(input('please provide second number'))\n",
    "    option = input('please pick your option(+,-,/,*)')\n",
    "    if option == '+':\n",
    "        print(f'{num1} + {num2} = {num1 + num2}')\n",
    "    elif option == '-':\n",
    "        print(F'{num2} - {num2} = {num1 - num2}')\n",
    "    elif option == '/':\n",
    "        print(f'{num1} / {num2} = {num1 / num2}')\n",
    "    elif option == '*':\n",
    "        print(f'{num1} * {num2} = {num1 * num2}')\n",
    "except:\n",
    "    print('YOU HAVE ENCOUNTERED ONE OR MORE ERRORS')\n",
    "    "
   ]
  },
  {
   "cell_type": "code",
   "execution_count": 21,
   "id": "76f8d9f0",
   "metadata": {},
   "outputs": [
    {
     "name": "stdout",
     "output_type": "stream",
     "text": [
      "please provide first number6\n",
      "please provide second number8\n",
      "please pick your option(+,-,/,*)+\n",
      "6 + 8 = 14\n",
      "6 ** 8=1679616\n",
      "END OF PROGRAM\n"
     ]
    }
   ],
   "source": [
    "try:\n",
    "    num1 = int(input('please provide first number'))\n",
    "    num2 = int(input('please provide second number'))\n",
    "    option = input('please pick your option(+,-,/,*)')\n",
    "    if option == '+':\n",
    "        print(f'{num1} + {num2} = {num1 + num2}')\n",
    "    elif option == '-':\n",
    "        print(F'{num2} - {num2} = {num1 - num2}')\n",
    "    elif option == '/':\n",
    "        print(f'{num1} / {num2} = {num1 / num2}')\n",
    "    elif option == '*':\n",
    "        print(f'{num1} * {num2} = {num1 * num2}')\n",
    "except ValueError:\n",
    "    print('INTEGER VALUE EXPECTED NOT FLOAT OR STRING')\n",
    "except ZeroDivisionError:\n",
    "    print('SORRY YOU CANNOT DIVIDE A NUMBER BY ZERO')\n",
    "except:\n",
    "    print('YOU HAVE ENCOUNTERED ONE OR MORE ERRORS')\n",
    "else:\n",
    "    print(f'{num1} ** {num2} = {num1 ** num2}')\n",
    "finally:\n",
    "    print('END OF PROGRAM')"
   ]
  },
  {
   "cell_type": "code",
   "execution_count": 39,
   "id": "a0db9bde",
   "metadata": {},
   "outputs": [
    {
     "name": "stdout",
     "output_type": "stream",
     "text": [
      "Press the button to your desired floor:1\n",
      "shop1 is on the left, shop2 is on the right, shop3 is oppsite the liftshop2\n",
      "Please turn right to shop 2\n",
      "RHANK YOU FOR VISITING OUR MALL\n",
      "END OF PROGRAM\n"
     ]
    }
   ],
   "source": [
    "#USING ERROR HANDLING WRITE A LIFT PROGRAM FOR A MALL HAVING 5 FLOORS AND EACH FLOOR HAS 3 SHOP SPACE\n",
    "try:\n",
    "    Floor_option = input('Press the button to your desired floor:')\n",
    "    if Floor_option == '1':\n",
    "        choice = input('shop1 is on the left, shop2 is on the right, shop3 is oppsite the lift')\n",
    "        if choice == 'shop1':\n",
    "            print('Please turn left to shop 1')\n",
    "        elif choice == 'shop2':\n",
    "            print('Please turn right to shop 2')\n",
    "        else:\n",
    "            print('Walk directly to shop 3')\n",
    "    elif floor_option == '2':\n",
    "        choice = input('shop1 is on the left, shop2 is on the right, shop3 is oppsite the lift')\n",
    "        if choice == 'shop1':\n",
    "            print('Please turn left to shop 1')\n",
    "        elif choice == 'shop2':\n",
    "            print('Please turn right to shop 2')\n",
    "        else:\n",
    "            print('Walk directly to shop 3')\n",
    "    elif floor_option == '3':\n",
    "        choice = input('shop1 is on the left, shop2 is on the right, shop3 is oppsite the lift')\n",
    "        if choice == 'shop1':\n",
    "            print('Please turn left to shop 1')\n",
    "        elif choice == 'shop2':\n",
    "            print('Please turn right to shop 2')\n",
    "        else:\n",
    "            print('Walk directly to shop 3')\n",
    "    elif floor_option == '4':\n",
    "        choice = input('shop1 is on the left, shop2 is on the right, shop3 is oppsite the lift')\n",
    "        if choice == 'shop1':\n",
    "            print('Please turn left to shop 1')\n",
    "        elif choice == 'shop2':\n",
    "            print('Please turn right to shop 2')\n",
    "        else:\n",
    "            print('Walk directly to shop 3')\n",
    "    elif floor_option == '5':\n",
    "        choice = input('shop1 is on the left, shop2 is on the right, shop3 is oppsite the lift')\n",
    "        if choice == 'shop1':\n",
    "            print('Please turn left to shop 1')\n",
    "        elif choice == 'shop2':\n",
    "            print('Please turn right to shop 2')\n",
    "        else:\n",
    "            print('Walk directly to shop 3')\n",
    "    else:\n",
    "        choice = input('shop1 is on the left, shop2 is on the right, shop3 is oppsite the lift')\n",
    "        if choice == 'shop1':\n",
    "            print('Please turn left to shop 1')\n",
    "        elif choice == 'shop2':\n",
    "            print('Please turn right to shop 2')\n",
    "        else:\n",
    "            print('Walk directly to shop 3')\n",
    "except ValueError:\n",
    "     print('INTEGER VALUE EXPECTED NOT FLOAT OR STRING')\n",
    "except:\n",
    "    print('YOU HAVE ENCOUNTERED ONE OR MORE ERRORS')\n",
    "else:\n",
    "    print(f'RHANK YOU FOR VISITING OUR MALL')\n",
    "finally:\n",
    "    print('END OF PROGRAM')"
   ]
  },
  {
   "cell_type": "code",
   "execution_count": null,
   "id": "ba53416f",
   "metadata": {},
   "outputs": [],
   "source": []
  }
 ],
 "metadata": {
  "kernelspec": {
   "display_name": "Python 3 (ipykernel)",
   "language": "python",
   "name": "python3"
  },
  "language_info": {
   "codemirror_mode": {
    "name": "ipython",
    "version": 3
   },
   "file_extension": ".py",
   "mimetype": "text/x-python",
   "name": "python",
   "nbconvert_exporter": "python",
   "pygments_lexer": "ipython3",
   "version": "3.9.12"
  }
 },
 "nbformat": 4,
 "nbformat_minor": 5
}
