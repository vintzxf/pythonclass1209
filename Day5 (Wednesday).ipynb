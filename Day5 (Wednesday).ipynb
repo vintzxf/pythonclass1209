{
 "cells": [
  {
   "cell_type": "code",
   "execution_count": 62,
   "id": "1e415e4c",
   "metadata": {},
   "outputs": [
    {
     "name": "stdout",
     "output_type": "stream",
     "text": [
      "ppp\n",
      "yyy\n",
      "ttt\n",
      "hhh\n",
      "ooo\n",
      "nnn\n",
      "iii\n",
      "sss\n",
      "fff\n",
      "uuu\n",
      "nnn\n",
      "ttt\n",
      "ooo\n",
      "lll\n",
      "eee\n",
      "aaa\n",
      "rrr\n",
      "nnn\n"
     ]
    }
   ],
   "source": [
    "character = 'pythonisfuntolearn'\n",
    "for char in character:\n",
    "    print(char * 3)"
   ]
  },
  {
   "cell_type": "code",
   "execution_count": 5,
   "id": "fdadd97f",
   "metadata": {},
   "outputs": [
    {
     "name": "stdout",
     "output_type": "stream",
     "text": [
      "Goodday mr Akin this is to remind you of the meeting slated to hold on froday by 12 noon\n",
      "Goodday mr john this is to remind you of the meeting slated to hold on froday by 12 noon\n",
      "Goodday mrs janet this is to remind you of the meeting slated to hold on froday by 12 noon\n",
      "Goodday Dr.Faith this is to remind you of the meeting slated to hold on froday by 12 noon\n"
     ]
    }
   ],
   "source": [
    "dep_head = ['mr Akin','mr john','mrs janet','Dr.Faith']\n",
    "for names in dep_head:\n",
    "    print(f'Goodday {names} this is to remind you of the meeting slated to hold on froday by 12 noon')"
   ]
  },
  {
   "cell_type": "code",
   "execution_count": 11,
   "id": "76b995ff",
   "metadata": {},
   "outputs": [
    {
     "name": "stdout",
     "output_type": "stream",
     "text": [
      "provide your desired number:40\n",
      "40 x 1 = 40\n",
      "40 x 2 = 80\n",
      "40 x 3 = 120\n",
      "40 x 4 = 160\n",
      "40 x 5 = 200\n",
      "40 x 6 = 240\n",
      "40 x 7 = 280\n",
      "40 x 8 = 320\n",
      "40 x 9 = 360\n",
      "40 x 10 = 400\n",
      "40 x 11 = 440\n",
      "40 x 12 = 480\n",
      "40 x 13 = 520\n",
      "40 x 14 = 560\n",
      "40 x 15 = 600\n",
      "40 x 16 = 640\n",
      "40 x 17 = 680\n",
      "40 x 18 = 720\n",
      "40 x 19 = 760\n",
      "40 x 20 = 800\n"
     ]
    }
   ],
   "source": [
    "num = int(input('provide your desired number:'))\n",
    "for i in range(1,21):\n",
    "    print(f'{num} x {i} = {num*i}')"
   ]
  },
  {
   "cell_type": "code",
   "execution_count": 15,
   "id": "51ca0f25",
   "metadata": {},
   "outputs": [
    {
     "name": "stdout",
     "output_type": "stream",
     "text": [
      "James :: {'Math': 90, 'English': 72, 'Physics': 83, 'Chemistry': 74}\n",
      "Samuel :: {'Math': 93, 'English': 82, 'Physics': 74, 'Chemistry': 73}\n",
      "Faith :: {'Math': 80, 'English': 82, 'Physics': 80, 'Chemistry': 84}\n",
      "Jane :: {'Math': 87, 'English': 92, 'Physics': 86, 'Chemistry': 88}\n",
      "obi :: {'Math': 89, 'English': 79, 'Physics': 85, 'Chemistry': 84}\n"
     ]
    }
   ],
   "source": [
    "student_records = {\n",
    "    \n",
    "    'James':{'Math':90,'English':72,'Physics':83, 'Chemistry':74},\n",
    "    'Samuel':{'Math':93,'English':82,'Physics':74, 'Chemistry':73},\n",
    "    'Faith':{'Math':80,'English':82,'Physics':80, 'Chemistry':84},\n",
    "    'Jane':{'Math':87,'English':92,'Physics':86, 'Chemistry':88},\n",
    "    'obi':{'Math':89,'English':79,'Physics':85, 'Chemistry':84}\n",
    "}\n",
    "for keys,values in student_records.items():\n",
    "    print(f'{keys} :: {values}')"
   ]
  },
  {
   "cell_type": "code",
   "execution_count": 36,
   "id": "fa7a4ba5",
   "metadata": {},
   "outputs": [
    {
     "name": "stdout",
     "output_type": "stream",
     "text": [
      "please provide your name to access your resultSamuel\n",
      "congratulations your scores are as follows{'Math': 93, 'English': 82, 'Physics': 74, 'Chemistry': 73}\n"
     ]
    }
   ],
   "source": [
    "student_records = {\n",
    "    \n",
    "    'James':{'Math':90,'English':72,'Physics':83, 'Chemistry':74},\n",
    "    'Samuel':{'Math':93,'English':82,'Physics':74, 'Chemistry':73},\n",
    "    'Faith':{'Math':80,'English':82,'Physics':80, 'Chemistry':84},\n",
    "    'Jane':{'Math':87,'English':92,'Physics':86, 'Chemistry':88},\n",
    "    'obi':{'Math':89,'English':79,'Physics':85, 'Chemistry':84}\n",
    "}\n",
    "name = input('please provide your name to access your result')\n",
    "for key in student_records:\n",
    "    if name == key:\n",
    "        print(f'congratulations your scores are as follows{student_records[key]}')\n",
    "        break\n",
    "else:\n",
    "    print('record not found')"
   ]
  },
  {
   "cell_type": "code",
   "execution_count": 50,
   "id": "daf447af",
   "metadata": {},
   "outputs": [
    {
     "name": "stdout",
     "output_type": "stream",
     "text": [
      "please provide your name to access your resultSamuel\n",
      "congratulations your scores are as follows{'Math': 93, 'English': 82, 'Physics': 74, 'Chemistry': 73}\n",
      "record not found\n"
     ]
    }
   ],
   "source": [
    "student_records = {\n",
    "    \n",
    "    'James':{'Math':90,'English':72,'Physics':83, 'Chemistry':74},\n",
    "    'Samuel':{'Math':93,'English':82,'Physics':74, 'Chemistry':73},\n",
    "    'Faith':{'Math':80,'English':82,'Physics':80, 'Chemistry':84},\n",
    "    'Jane':{'Math':87,'English':92,'Physics':86, 'Chemistry':88},\n",
    "    'obi':{'Math':89,'English':79,'Physics':85, 'Chemistry':84}\n",
    "}\n",
    "name = input('please provide your name to access your result')\n",
    "for key in student_records:\n",
    "    if name == key:\n",
    "        print(f'congratulations your scores are as follows{student_records[key]}')\n",
    "        continue\n",
    "else:\n",
    "    print('record not found')"
   ]
  },
  {
   "cell_type": "code",
   "execution_count": 51,
   "id": "25be6f07",
   "metadata": {},
   "outputs": [
    {
     "name": "stdout",
     "output_type": "stream",
     "text": [
      "please provide a number:40\n",
      "the sqrt of 40 is 6.324555320336759\n",
      "please provide a number:50\n",
      "the sqrt of 50 is 7.0710678118654755\n",
      "please provide a number:30\n",
      "the sqrt of 30 is 5.477225575051661\n",
      "please provide a number:20\n",
      "the sqrt of 20 is 4.47213595499958\n",
      "please provide a number:0\n"
     ]
    }
   ],
   "source": [
    "import math\n",
    "num = int(input('please provide a number:'))\n",
    "counter = 1\n",
    "while num != 0:\n",
    "    print(f'the sqrt of {num} is {math.sqrt(num)}')\n",
    "    num = int(input('please provide a number:'))\n",
    "    counter = counter + 1"
   ]
  },
  {
   "cell_type": "code",
   "execution_count": 48,
   "id": "b077d070",
   "metadata": {},
   "outputs": [
    {
     "name": "stdout",
     "output_type": "stream",
     "text": [
      "[58, 52, 78, 61, 49, 70, 77, 72, 67, 46, 58, 51, 46, 79, 60, 61, 59, 73, 80, 62, 51, 45, 74, 51, 45, 66, 61, 56, 51, 71, 74, 55, 78, 48, 50, 56, 76, 65, 62, 49, 55, 57, 47, 58, 51, 67, 73, 59, 73, 66]\n"
     ]
    }
   ],
   "source": [
    "import random\n",
    "numbers= []\n",
    "counter =1\n",
    "while counter <= 50:\n",
    "    num = random.randint(45,80)\n",
    "    numbers.append(num)\n",
    "    counter = counter + 1\n",
    "print(numbers)"
   ]
  },
  {
   "cell_type": "code",
   "execution_count": null,
   "id": "eb84b24c",
   "metadata": {},
   "outputs": [],
   "source": []
  }
 ],
 "metadata": {
  "kernelspec": {
   "display_name": "Python 3 (ipykernel)",
   "language": "python",
   "name": "python3"
  },
  "language_info": {
   "codemirror_mode": {
    "name": "ipython",
    "version": 3
   },
   "file_extension": ".py",
   "mimetype": "text/x-python",
   "name": "python",
   "nbconvert_exporter": "python",
   "pygments_lexer": "ipython3",
   "version": "3.9.12"
  }
 },
 "nbformat": 4,
 "nbformat_minor": 5
}
