{
 "cells": [
  {
   "cell_type": "code",
   "execution_count": 1,
   "id": "9a701c66",
   "metadata": {},
   "outputs": [
    {
     "name": "stdout",
     "output_type": "stream",
     "text": [
      "please enter your full name:John Greg\n",
      "please enter your age:25\n",
      "WELCOME TO THE BMI CALCULATOR\n",
      "please enter your continent:Africa\n",
      "your charge for using this service is $200\n",
      "please input your gender:male\n",
      "Enter your height in meters: 1.2\n",
      "Enter your weight in kg: 65\n",
      "Your BMI is:  45.14\n",
      "You are obese.\n"
     ]
    }
   ],
   "source": [
    "\n",
    "\n",
    "class BMI:\n",
    "\n",
    "    continent = [\"Europe\", \"SouthAmerica\", \"NorthAmerica\", \"Africa\", \"Asia\", \"Antartica\", \"Australia\"]\n",
    "\n",
    "def BMI(**details):\n",
    "        name = input('please enter your full name:')\n",
    "        age = int(input('please enter your age:'))\n",
    "        print('WELCOME TO THE BMI CALCULATOR')\n",
    "        def continent(self) : (\"Europe\", \"SouthAmerica\", \"NorthAmerica\", \"Africa\", \"Asia\", \"Antartica\", \"Australia\")\n",
    "        continent = input('please enter your continent:')\n",
    "        if continent == \"Europe\":\n",
    "            print('your charge for using this service is $500')\n",
    "        elif continent == \"SouthAmerica\":\n",
    "            print('your charge for using this service is $400')\n",
    "        elif continent == \"NorthAmerica\":\n",
    "            print('Gyour charge for using this service is $400')\n",
    "        elif continent == \"Africa\":\n",
    "            print('your charge for using this service is $200')\n",
    "        elif continent == \"Asia\":\n",
    "            print('your charge for using this service is $200')\n",
    "        elif continent == \"Antartica\":\n",
    "            print('your charge for using this service is $100')\n",
    "        elif continent == \"Australia\":\n",
    "            print('your charge for using this service is $300')\n",
    "        else:\n",
    "            print('INVALID REQUEST')\n",
    "\n",
    "        gender = input('please input your gender:')\n",
    "        \n",
    "obj = BMI()\n",
    "\n",
    "def bodymassindex(height, weight):\n",
    "        return round((weight / height**2),2)\n",
    "\n",
    "h = float(input(\"Enter your height in meters: \"))\n",
    "w = float(input(\"Enter your weight in kg: \"))\n",
    "\n",
    "\n",
    "bmi = bodymassindex(h, w)\n",
    "print(\"Your BMI is: \", bmi)\n",
    "\n",
    "\n",
    "if bmi <= 18.5:\n",
    "      print(\"You are underweight.\")\n",
    "elif 18.5 < bmi <= 24.9:\n",
    "      print(\"Your weight is normal.\")\n",
    "elif 25 < bmi <= 29.29:\n",
    "      print(\"You are overweight.\")\n",
    "else:\n",
    "      print(\"You are obese.\")\n",
    "\n",
    "    "
   ]
  },
  {
   "cell_type": "code",
   "execution_count": 3,
   "id": "b888d19f",
   "metadata": {},
   "outputs": [
    {
     "name": "stdout",
     "output_type": "stream",
     "text": [
      "BMX RS has started\n",
      "None\n",
      "please select a gear2\n",
      "None\n",
      "Nitro On, ready for maximum Acceleration\n",
      "None\n",
      "BMX RS has stopped, simulation over\n",
      "None\n"
     ]
    }
   ],
   "source": [
    "class bike_simulation:\n",
    "    def __init__(self ,brand,model,color,year,speed):\n",
    "        self.brand = brand\n",
    "        self.model = model\n",
    "        self.color = color\n",
    "        self.year = year\n",
    "        self.speed = speed\n",
    "        \n",
    "    def start(self):\n",
    "        print(f'{self.brand} {self.model} has started')\n",
    "    def gear(self):\n",
    "        choice = int(input('please select a gear'))\n",
    "        if choice == 1:\n",
    "            print('Gear 1 selected')\n",
    "        elif choice == 1:\n",
    "            print('Gear 2 selected')\n",
    "        elif choice == 3:\n",
    "            print('Gear 3 selected')\n",
    "        elif choice == 4:\n",
    "            print('Gear 4 selected')\n",
    "        elif choice == 5:\n",
    "            print('Gear 5 selected')\n",
    "        elif choice == 6:\n",
    "            print('Gear placed on reverse')\n",
    "    def accelerate(self,ch):\n",
    "        if ch == 1:\n",
    "            print('Nitro On, ready for maximum Acceleration')\n",
    "        elif ch == 2:\n",
    "            print('Nitro off')\n",
    "        else:\n",
    "            print('Nitro Option not recognized')\n",
    "    def stop(self):\n",
    "        print(f'{self.brand} {self.model} has stopped, simulation over')\n",
    "bike1 = bike_simulation('BMX','RS','black',2016,180)\n",
    "print(bike1.start())\n",
    "print(bike1.gear())\n",
    "print(bike1.accelerate(1))\n",
    "print(bike1.stop())"
   ]
  },
  {
   "cell_type": "code",
   "execution_count": null,
   "id": "90a564d9",
   "metadata": {},
   "outputs": [],
   "source": []
  }
 ],
 "metadata": {
  "kernelspec": {
   "display_name": "Python 3 (ipykernel)",
   "language": "python",
   "name": "python3"
  },
  "language_info": {
   "codemirror_mode": {
    "name": "ipython",
    "version": 3
   },
   "file_extension": ".py",
   "mimetype": "text/x-python",
   "name": "python",
   "nbconvert_exporter": "python",
   "pygments_lexer": "ipython3",
   "version": "3.9.12"
  }
 },
 "nbformat": 4,
 "nbformat_minor": 5
}
