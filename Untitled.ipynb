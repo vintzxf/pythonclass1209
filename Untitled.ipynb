{
 "cells": [
  {
   "cell_type": "code",
   "execution_count": 3,
   "id": "edfff4c5",
   "metadata": {},
   "outputs": [
    {
     "name": "stdout",
     "output_type": "stream",
     "text": [
      "Enter your height in meters: 1.5\n",
      "Enter your weight in kg: 45\n",
      "Your BMI is:  20.0\n",
      "Your weight is normal.\n"
     ]
    },
    {
     "ename": "TypeError",
     "evalue": "BMI() takes 1 positional argument but 6 were given",
     "output_type": "error",
     "traceback": [
      "\u001b[1;31m---------------------------------------------------------------------------\u001b[0m",
      "\u001b[1;31mTypeError\u001b[0m                                 Traceback (most recent call last)",
      "Input \u001b[1;32mIn [3]\u001b[0m, in \u001b[0;36m<cell line: 58>\u001b[1;34m()\u001b[0m\n\u001b[0;32m     54\u001b[0m \u001b[38;5;28;01melse\u001b[39;00m:\n\u001b[0;32m     55\u001b[0m       \u001b[38;5;28mprint\u001b[39m(\u001b[38;5;124m\"\u001b[39m\u001b[38;5;124mYou are obese.\u001b[39m\u001b[38;5;124m\"\u001b[39m)\n\u001b[1;32m---> 58\u001b[0m user1 \u001b[38;5;241m=\u001b[39m \u001b[43mBMI\u001b[49m\u001b[43m(\u001b[49m\u001b[38;5;124;43m'\u001b[39;49m\u001b[38;5;124;43mname\u001b[39;49m\u001b[38;5;124;43m'\u001b[39;49m\u001b[43m,\u001b[49m\u001b[43m \u001b[49m\u001b[38;5;124;43m'\u001b[39;49m\u001b[38;5;124;43mage\u001b[39;49m\u001b[38;5;124;43m'\u001b[39;49m\u001b[43m \u001b[49m\u001b[43m,\u001b[49m\u001b[43m \u001b[49m\u001b[38;5;124;43m'\u001b[39;49m\u001b[38;5;124;43mgender\u001b[39;49m\u001b[38;5;124;43m'\u001b[39;49m\u001b[43m \u001b[49m\u001b[43m,\u001b[49m\u001b[43m \u001b[49m\u001b[38;5;124;43m'\u001b[39;49m\u001b[38;5;124;43mcontinent\u001b[39;49m\u001b[38;5;124;43m'\u001b[39;49m\u001b[43m \u001b[49m\u001b[43m,\u001b[49m\u001b[43m \u001b[49m\u001b[38;5;124;43m'\u001b[39;49m\u001b[38;5;124;43mheight\u001b[39;49m\u001b[38;5;124;43m'\u001b[39;49m\u001b[43m \u001b[49m\u001b[43m,\u001b[49m\u001b[43m \u001b[49m\u001b[38;5;124;43m'\u001b[39;49m\u001b[38;5;124;43mweight\u001b[39;49m\u001b[38;5;124;43m'\u001b[39;49m\u001b[43m)\u001b[49m\n\u001b[0;32m     60\u001b[0m \u001b[38;5;28mprint\u001b[39m(user1\u001b[38;5;241m.\u001b[39mname())\n\u001b[0;32m     61\u001b[0m \u001b[38;5;28mprint\u001b[39m(user1\u001b[38;5;241m.\u001b[39mage())\n",
      "\u001b[1;31mTypeError\u001b[0m: BMI() takes 1 positional argument but 6 were given"
     ]
    }
   ],
   "source": [
    "class BMI:\n",
    "    def __init__(self ,name,continent,gender,age,weight,height):\n",
    "        self.name = name\n",
    "        self.continent = continent\n",
    "        self.gender = gender\n",
    "        self.age = age\n",
    "        self.weight = weight\n",
    "        self.height = height\n",
    "\n",
    "continent = {'''\n",
    "    'Europe':($500)\n",
    "    'SouthAmerica':($400)\n",
    "    'northAmerica':($400)\n",
    "    'Africa':($200)\n",
    "    'Asia':($200)\n",
    "    'Antartica':($100)\n",
    "    'Australia':($300)\n",
    "'''}\n",
    "\n",
    "def BMI(self):\n",
    "        name = input('please enter your full name:')\n",
    "        age = int(input('please enter your age:'))\n",
    "        print('WELCOME TO THE BMI CALCULATOR')\n",
    "for key in continent:\n",
    "      def continent(self):\n",
    "        continent = ('please enter your continent:')\n",
    "        if continent == \"Europe\":\n",
    "            print(f'your charge for using this service is {continent[key]}')\n",
    "        else:\n",
    "            print('invalid request')\n",
    "        gender = input('please input your gender:')\n",
    "        \n",
    "\n",
    "\n",
    "\n",
    "\n",
    "def bodymassindex(height, weight):\n",
    "        return (weight / height**2)\n",
    "\n",
    "h = float(input(\"Enter your height in meters: \"))\n",
    "w = float(input(\"Enter your weight in kg: \"))\n",
    "\n",
    "\n",
    "bmi = bodymassindex(h, w)\n",
    "print(\"Your BMI is: \", bmi)\n",
    "\n",
    "\n",
    "if bmi <= 18.5:\n",
    "      print(\"You are underweight.\")\n",
    "elif 18.5 < bmi <= 24.9:\n",
    "      print(\"Your weight is normal.\")\n",
    "elif 25 < bmi <= 29.29:\n",
    "      print(\"You are overweight.\")\n",
    "else:\n",
    "      print(\"You are obese.\")\n",
    "        \n",
    "        \n",
    "user1 = BMI('name', 'age' , 'gender' , 'continent' , 'height' , 'weight')\n",
    "\n",
    "print(user1.name())\n",
    "print(user1.age())\n",
    "print(user1.continent)\n",
    "print(user1.BMI)\n",
    "\n",
    "    "
   ]
  },
  {
   "cell_type": "code",
   "execution_count": null,
   "id": "314822f2",
   "metadata": {},
   "outputs": [],
   "source": []
  }
 ],
 "metadata": {
  "kernelspec": {
   "display_name": "Python 3 (ipykernel)",
   "language": "python",
   "name": "python3"
  },
  "language_info": {
   "codemirror_mode": {
    "name": "ipython",
    "version": 3
   },
   "file_extension": ".py",
   "mimetype": "text/x-python",
   "name": "python",
   "nbconvert_exporter": "python",
   "pygments_lexer": "ipython3",
   "version": "3.9.12"
  }
 },
 "nbformat": 4,
 "nbformat_minor": 5
}
