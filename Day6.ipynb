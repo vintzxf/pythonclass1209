{
 "cells": [
  {
   "cell_type": "code",
   "execution_count": 1,
   "id": "bef1a712",
   "metadata": {},
   "outputs": [],
   "source": [
    "#functions"
   ]
  },
  {
   "cell_type": "code",
   "execution_count": 6,
   "id": "981bc9e2",
   "metadata": {},
   "outputs": [
    {
     "name": "stdout",
     "output_type": "stream",
     "text": [
      "welcome to python class\n"
     ]
    }
   ],
   "source": [
    "def greet():\n",
    "    print('welcome to python class')\n",
    "greet()"
   ]
  },
  {
   "cell_type": "code",
   "execution_count": 22,
   "id": "6bdbfa94",
   "metadata": {},
   "outputs": [
    {
     "name": "stdout",
     "output_type": "stream",
     "text": [
      "welcome to python class segun\n"
     ]
    }
   ],
   "source": [
    "def greet2(name):\n",
    "    print(f'welcome to python class {name}')\n",
    "greet2('segun')"
   ]
  },
  {
   "cell_type": "code",
   "execution_count": 23,
   "id": "da6ff591",
   "metadata": {},
   "outputs": [
    {
     "name": "stdout",
     "output_type": "stream",
     "text": [
      "welcome to python class Ade\n"
     ]
    }
   ],
   "source": [
    "greet2('Ade')"
   ]
  },
  {
   "cell_type": "code",
   "execution_count": 6,
   "id": "44016ea7",
   "metadata": {},
   "outputs": [
    {
     "name": "stdout",
     "output_type": "stream",
     "text": [
      "NAME:John\n",
      "GENDER:male\n",
      "AGE:32\n",
      "\n"
     ]
    }
   ],
   "source": [
    "def vote_check(name,gender,age):\n",
    "    print(f'''NAME:{name}\n",
    "GENDER:{gender}\n",
    "AGE:{age}\n",
    "''')\n",
    "vote_check('John','male','32')"
   ]
  },
  {
   "cell_type": "code",
   "execution_count": 35,
   "id": "4fe1abac",
   "metadata": {},
   "outputs": [
    {
     "name": "stdout",
     "output_type": "stream",
     "text": [
      "<class 'tuple'>\n"
     ]
    },
    {
     "data": {
      "text/plain": [
       "'The average score for the following values (78, 64, 67, 84, 34, 65, 78, 99, 89, 65, 45, 34, 65, 89, 90) is 69.73'"
      ]
     },
     "execution_count": 35,
     "metadata": {},
     "output_type": "execute_result"
    }
   ],
   "source": [
    "def average(*num):\n",
    "    print(type(num))\n",
    "    avg = sum(num)/len(num)\n",
    "    return f'The average score for the following values {num} is {round(avg,2)}'\n",
    "average(78,64,67,84,34,65,78,99,89,65,45,34,65,89,90) "
   ]
  },
  {
   "cell_type": "code",
   "execution_count": 36,
   "id": "3e8a11e5",
   "metadata": {},
   "outputs": [
    {
     "name": "stdout",
     "output_type": "stream",
     "text": [
      "<class 'tuple'>\n"
     ]
    },
    {
     "data": {
      "text/plain": [
       "'The average score for the following values (87, 76, 36, 65, 77, 86, 32, 56, 76, 43, 23, 45, 23, 54, 67, 75) is 57.56'"
      ]
     },
     "execution_count": 36,
     "metadata": {},
     "output_type": "execute_result"
    }
   ],
   "source": [
    "list_num = [87,76,36,65,77,86,32,56,76,43,23,45,23,54,67,75]\n",
    "average(*list_num)"
   ]
  },
  {
   "cell_type": "code",
   "execution_count": 1,
   "id": "5c3aec2b",
   "metadata": {},
   "outputs": [
    {
     "name": "stdout",
     "output_type": "stream",
     "text": [
      "<class 'dict'>\n",
      "Name::ADE\n",
      "Age::26\n",
      "Gender::Male\n"
     ]
    }
   ],
   "source": [
    "def records(**details):\n",
    "    print(type(details))\n",
    "    for key,value in details.items():\n",
    "        print(f'{key}::{value}')\n",
    "records(Name = 'ADE',Age=26,Gender = 'Male')"
   ]
  },
  {
   "cell_type": "code",
   "execution_count": 7,
   "id": "bf9a76ee",
   "metadata": {},
   "outputs": [
    {
     "name": "stdout",
     "output_type": "stream",
     "text": [
      "please provide a number:6\n"
     ]
    },
    {
     "ename": "SyntaxError",
     "evalue": "'continue' not properly in loop (248944681.py, line 11)",
     "output_type": "error",
     "traceback": [
      "\u001b[1;36m  Input \u001b[1;32mIn [7]\u001b[1;36m\u001b[0m\n\u001b[1;33m    continue\u001b[0m\n\u001b[1;37m    ^\u001b[0m\n\u001b[1;31mSyntaxError\u001b[0m\u001b[1;31m:\u001b[0m 'continue' not properly in loop\n"
     ]
    }
   ],
   "source": [
    "#write a function to generate a number and ask the user to guess, also write a function to tell the user if the generated number is high or low\n",
    "\n",
    "\n",
    "num_input = int(input('please provide a number:'))\n",
    "if num_input == random.randint(1,50):\n",
    "   if num_input == 7:\n",
    "        print('You won!')\n",
    "        run = False\n",
    "else:\n",
    "        print('try again!')\n",
    "        continue"
   ]
  },
  {
   "cell_type": "code",
   "execution_count": 50,
   "id": "444291b0",
   "metadata": {},
   "outputs": [
    {
     "name": "stdout",
     "output_type": "stream",
     "text": [
      "PLEASE GUESS THE CORRECT NUMBER BETWEEN 1 AND 20:9\n",
      "Guess is low\n",
      "PLEASE GUESS THE CORRECT NUMBER BETWEEN 1 AND 20:15\n",
      "Guess is low\n",
      "PLEASE GUESS THE CORRECT NUMBER BETWEEN 1 AND 20:18\n",
      "Congratulations you win\n"
     ]
    }
   ],
   "source": [
    "def guessing_game():\n",
    "    import random\n",
    "    correct_guess = random.randint(1,20)\n",
    "    guess_count = 0\n",
    "    guess_limit = 3\n",
    "    while guess_count <guess_limit:\n",
    "        guess = int(input('PLEASE GUESS THE CORRECT NUMBER BETWEEN 1 AND 20:'))\n",
    "        guess_count ==1\n",
    "        if guess > correct_guess:\n",
    "            print('Guess is high')\n",
    "        elif guess< correct_guess:\n",
    "            print('Guess is low')\n",
    "        elif guess == correct_guess:\n",
    "            print('Congratulations you win')\n",
    "            break\n",
    "        else:\n",
    "            print('Sorry you Failed')\n",
    "guessing_game()"
   ]
  },
  {
   "cell_type": "code",
   "execution_count": null,
   "id": "2b181468",
   "metadata": {},
   "outputs": [],
   "source": []
  }
 ],
 "metadata": {
  "kernelspec": {
   "display_name": "Python 3 (ipykernel)",
   "language": "python",
   "name": "python3"
  },
  "language_info": {
   "codemirror_mode": {
    "name": "ipython",
    "version": 3
   },
   "file_extension": ".py",
   "mimetype": "text/x-python",
   "name": "python",
   "nbconvert_exporter": "python",
   "pygments_lexer": "ipython3",
   "version": "3.9.12"
  }
 },
 "nbformat": 4,
 "nbformat_minor": 5
}
