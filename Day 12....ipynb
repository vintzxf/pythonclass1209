{
 "cells": [
  {
   "cell_type": "code",
   "execution_count": 14,
   "id": "6ca52df6",
   "metadata": {},
   "outputs": [],
   "source": [
    "import pymysql\n",
    "\n",
    "mydb = pymysql.connect(\n",
    "    host = 'localhost',\n",
    "    user = 'root',\n",
    "    password = 'simba911',\n",
    "    database = 'greenwayschoolmanagementsystem'\n",
    ")\n",
    "mycursor = mydb.cursor()"
   ]
  },
  {
   "cell_type": "code",
   "execution_count": 21,
   "id": "e03887db",
   "metadata": {},
   "outputs": [
    {
     "name": "stdout",
     "output_type": "stream",
     "text": [
      "('id', 'int', 'NO', 'PRI', None, '')\n",
      "('StaffName', 'varchar(255)', 'NO', '', None, '')\n",
      "('staffgender', 'varchar(10)', 'NO', '', None, '')\n",
      "('staffdob', 'date', 'NO', '', None, '')\n",
      "('staffcontact', 'text', 'NO', '', None, '')\n"
     ]
    }
   ],
   "source": [
    "mycursor.execute('alter table staffdetails add column staffcontact text not null')\n",
    "mycursor.execute('show columns from staffdetails')\n",
    "for x in mycursor:\n",
    "    print(x)"
   ]
  },
  {
   "cell_type": "code",
   "execution_count": 22,
   "id": "8d343534",
   "metadata": {},
   "outputs": [
    {
     "name": "stdout",
     "output_type": "stream",
     "text": [
      "('id', 'int', 'NO', 'PRI', None, '')\n",
      "('StaffName', 'varchar(255)', 'NO', '', None, '')\n",
      "('staffgender', 'varchar(10)', 'NO', '', None, '')\n",
      "('staffdob', 'date', 'NO', '', None, '')\n",
      "('staffcontact', 'text', 'NO', '', None, '')\n",
      "('staffaddress', 'text', 'NO', '', None, '')\n"
     ]
    }
   ],
   "source": [
    "mycursor.execute('alter table staffdetails add column staffaddress text not null')\n",
    "mycursor.execute('show columns from staffdetails')\n",
    "for x in mycursor:\n",
    "    print(x)"
   ]
  },
  {
   "cell_type": "code",
   "execution_count": 23,
   "id": "d01d27f2",
   "metadata": {},
   "outputs": [
    {
     "name": "stdout",
     "output_type": "stream",
     "text": [
      "('id', 'int', 'NO', 'PRI', None, '')\n",
      "('StaffName', 'varchar(255)', 'NO', '', None, '')\n",
      "('staffgender', 'varchar(10)', 'NO', '', None, '')\n",
      "('staffdob', 'date', 'NO', '', None, '')\n",
      "('staffcontact', 'text', 'NO', '', None, '')\n"
     ]
    }
   ],
   "source": [
    "mycursor.execute('alter table staffdetails drop staffaddress')\n",
    "mycursor.execute('show columns from staffdetails')\n",
    "for x in mycursor:\n",
    "    print(x)"
   ]
  },
  {
   "cell_type": "code",
   "execution_count": 24,
   "id": "55ca3f28",
   "metadata": {},
   "outputs": [
    {
     "name": "stdout",
     "output_type": "stream",
     "text": [
      "('id', 'int', 'NO', 'PRI', None, '')\n",
      "('StaffName', 'varchar(255)', 'NO', '', None, '')\n",
      "('staffgender', 'varchar(10)', 'NO', '', None, '')\n",
      "('staffdob', 'date', 'NO', '', None, '')\n",
      "('staffphonenumber', 'text', 'NO', '', None, '')\n"
     ]
    }
   ],
   "source": [
    "mycursor.execute('alter table staffdetails change column staffcontact staffphonenumber  text not null')\n",
    "mycursor.execute('show columns from staffdetails')\n",
    "for x in mycursor:\n",
    "    print(x)"
   ]
  },
  {
   "cell_type": "code",
   "execution_count": 25,
   "id": "65e76034",
   "metadata": {},
   "outputs": [
    {
     "name": "stdout",
     "output_type": "stream",
     "text": [
      "('staffrecords',)\n"
     ]
    }
   ],
   "source": [
    "mycursor.execute('alter table staffdetails rename to staffrecords')\n",
    "mycursor.execute('show tables')\n",
    "for x in mycursor:\n",
    "    print(x)"
   ]
  },
  {
   "cell_type": "code",
   "execution_count": null,
   "id": "d44ecde4",
   "metadata": {},
   "outputs": [],
   "source": []
  },
  {
   "cell_type": "code",
   "execution_count": 33,
   "id": "0053de25",
   "metadata": {},
   "outputs": [],
   "source": [
    "sql = 'insert into staffrecords(id,staffname,staffgender,staffdob,staffphonenumber) values(%s,%s,%s,%s,%s)'\n",
    "values = [(1,'Janet Lawal','Female','1987-02-22','08165898794'),\n",
    "          (2,'Samuel Okoro','Male','1999-05-06','08798446897'),\n",
    "          (3,'Susan Paul','Female','1992-06-27','080347987945'),\n",
    "          (4,'Jackson Akpan','male','1985-07-25','070689789546'),\n",
    "          (5,'Ojukwu Okere','Male','1991-12-24','09057789548'),\n",
    "          (6,'Johan Akinlabi','Female','1985-09-15','0978545689'),\n",
    "          (7,'PAtrick Ogunlade','Male','1997-05-30','09159632478')]\n",
    "mycursor.executemany(sql,values)\n",
    "mydb.commit()"
   ]
  },
  {
   "cell_type": "code",
   "execution_count": 34,
   "id": "78cb53b3",
   "metadata": {},
   "outputs": [
    {
     "name": "stdout",
     "output_type": "stream",
     "text": [
      "(1, 'Janet Lawal', 'Female', datetime.date(1987, 2, 22), '08165898794')\n",
      "(2, 'Samuel Okoro', 'Male', datetime.date(1999, 5, 6), '08798446897')\n",
      "(3, 'Susan Paul', 'Female', datetime.date(1992, 6, 27), '080347987945')\n",
      "(4, 'Jackson Akpan', 'male', datetime.date(1985, 7, 25), '070689789546')\n",
      "(5, 'Ojukwu Okere', 'Male', datetime.date(1991, 12, 24), '09057789548')\n",
      "(6, 'Johan Akinlabi', 'Female', datetime.date(1985, 9, 15), '0978545689')\n",
      "(7, 'PAtrick Ogunlade', 'Male', datetime.date(1997, 5, 30), '09159632478')\n"
     ]
    }
   ],
   "source": [
    "mycursor.execute('select * from staffrecords')\n",
    "for x in mycursor:\n",
    "    print(x)"
   ]
  },
  {
   "cell_type": "code",
   "execution_count": 38,
   "id": "ec804b82",
   "metadata": {},
   "outputs": [
    {
     "name": "stdout",
     "output_type": "stream",
     "text": [
      "(1, 'Janet Lawal', 'Female', datetime.date(1987, 2, 22), '08165898794')\n",
      "(2, 'Samuel Okoro', 'Male', datetime.date(1989, 5, 6), '08798446897')\n",
      "(3, 'Susan Paul', 'Female', datetime.date(1992, 6, 27), '080347987945')\n",
      "(4, 'Jackson Akpan', 'male', datetime.date(1985, 7, 25), '070689789546')\n",
      "(5, 'Ojukwu Okere', 'Male', datetime.date(1991, 12, 24), '09057789548')\n",
      "(6, 'Johan Akinlabi', 'Female', datetime.date(1985, 9, 15), '0978545689')\n",
      "(7, 'PAtrick Ogunlade', 'Male', datetime.date(1997, 5, 30), '09159632478')\n"
     ]
    }
   ],
   "source": [
    "mycursor.execute('update staffrecords set staffdob = \"1989-05-06\" where id = 2')\n",
    "mycursor.execute('select * from staffrecords')\n",
    "for x in mycursor:\n",
    "    print(x)"
   ]
  },
  {
   "cell_type": "code",
   "execution_count": 39,
   "id": "2a15a0f1",
   "metadata": {},
   "outputs": [
    {
     "name": "stdout",
     "output_type": "stream",
     "text": [
      "(1, 'Janet Lawal', 'Female', datetime.date(1987, 2, 22), '08165898794')\n",
      "(2, 'Samuel Okoro', 'Male', datetime.date(1989, 5, 6), '08798446897')\n",
      "(3, 'Susan Paul', 'Female', datetime.date(1992, 6, 27), '080347987945')\n",
      "(4, 'Jackson Akpan', 'male', datetime.date(1985, 7, 25), '070689789546')\n",
      "(5, 'Ojukwu Okere', 'Male', datetime.date(1991, 12, 24), '09057789548')\n",
      "(6, 'Johan Akinlabi', 'Female', datetime.date(1985, 9, 15), '0978545689')\n"
     ]
    }
   ],
   "source": [
    "mycursor.execute('delete  from staffrecords where id = 7')\n",
    "mycursor.execute('select * from staffrecords')\n",
    "for x in mycursor:\n",
    "    print(x)"
   ]
  },
  {
   "cell_type": "code",
   "execution_count": 41,
   "id": "c0a9c34a",
   "metadata": {},
   "outputs": [
    {
     "name": "stdout",
     "output_type": "stream",
     "text": [
      "(2, 'Samuel Okoro', 'Male', datetime.date(1989, 5, 6), '08798446897')\n",
      "(4, 'Jackson Akpan', 'male', datetime.date(1985, 7, 25), '070689789546')\n",
      "(5, 'Ojukwu Okere', 'Male', datetime.date(1991, 12, 24), '09057789548')\n"
     ]
    }
   ],
   "source": [
    "mycursor.execute('select * from staffrecords where staffgender = \"Male\"')\n",
    "for x in mycursor:\n",
    "    print(x)"
   ]
  },
  {
   "cell_type": "code",
   "execution_count": null,
   "id": "84f49b70",
   "metadata": {},
   "outputs": [],
   "source": []
  }
 ],
 "metadata": {
  "kernelspec": {
   "display_name": "Python 3 (ipykernel)",
   "language": "python",
   "name": "python3"
  },
  "language_info": {
   "codemirror_mode": {
    "name": "ipython",
    "version": 3
   },
   "file_extension": ".py",
   "mimetype": "text/x-python",
   "name": "python",
   "nbconvert_exporter": "python",
   "pygments_lexer": "ipython3",
   "version": "3.9.12"
  }
 },
 "nbformat": 4,
 "nbformat_minor": 5
}
