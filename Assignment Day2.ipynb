{
 "cells": [
  {
   "cell_type": "code",
   "execution_count": 7,
   "id": "d0dc3f4c",
   "metadata": {},
   "outputs": [
    {
     "name": "stdout",
     "output_type": "stream",
     "text": [
      "458.0\n"
     ]
    }
   ],
   "source": [
    "num = '458'\n",
    "print(float(num))"
   ]
  },
  {
   "cell_type": "code",
   "execution_count": 53,
   "id": "3aff28c5",
   "metadata": {},
   "outputs": [
    {
     "name": "stdout",
     "output_type": "stream",
     "text": [
      "Enter three values:caleb, tobi, john \n",
      "Enter your name: john\n",
      "Enter your name: john\n",
      "Enter your name: john\n",
      "\n"
     ]
    }
   ],
   "source": [
    "name, name, name = input('Enter three values:').split()\n",
    "print('Enter your name:',name)\n",
    "print('Enter your name:',name)\n",
    "print('Enter your name:',name)\n",
    "print()"
   ]
  },
  {
   "cell_type": "code",
   "execution_count": 48,
   "id": "16ccd70f",
   "metadata": {},
   "outputs": [
    {
     "name": "stdout",
     "output_type": "stream",
     "text": [
      "5955.08\n"
     ]
    }
   ],
   "source": [
    "#3\n",
    "Principle = 5000\n",
    "Time = 3\n",
    "Rate = 6\n",
    "Amount = Principle * (pow((1 + Rate / 100), Time))\n",
    "print(Amount)"
   ]
  },
  {
   "cell_type": "code",
   "execution_count": null,
   "id": "f09c1a93",
   "metadata": {},
   "outputs": [],
   "source": []
  }
 ],
 "metadata": {
  "kernelspec": {
   "display_name": "Python 3 (ipykernel)",
   "language": "python",
   "name": "python3"
  },
  "language_info": {
   "codemirror_mode": {
    "name": "ipython",
    "version": 3
   },
   "file_extension": ".py",
   "mimetype": "text/x-python",
   "name": "python",
   "nbconvert_exporter": "python",
   "pygments_lexer": "ipython3",
   "version": "3.9.12"
  }
 },
 "nbformat": 4,
 "nbformat_minor": 5
}
