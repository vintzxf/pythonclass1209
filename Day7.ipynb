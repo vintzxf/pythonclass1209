{
 "cells": [
  {
   "cell_type": "code",
   "execution_count": 2,
   "id": "08f6bb7a",
   "metadata": {},
   "outputs": [
    {
     "data": {
      "text/plain": [
       "72"
      ]
     },
     "execution_count": 2,
     "metadata": {},
     "output_type": "execute_result"
    }
   ],
   "source": [
    "(lambda x,y:x*y)(8,9)"
   ]
  },
  {
   "cell_type": "code",
   "execution_count": 5,
   "id": "aac98ac0",
   "metadata": {},
   "outputs": [
    {
     "name": "stdout",
     "output_type": "stream",
     "text": [
      "please provide your nameJane\n"
     ]
    },
    {
     "data": {
      "text/plain": [
       "'Jane starts with uppercase'"
      ]
     },
     "execution_count": 5,
     "metadata": {},
     "output_type": "execute_result"
    }
   ],
   "source": [
    "(lambda name:f'{name} starts with uppercase' if name[0] == name[0].upper() else f'{name} does not start with upper case')(input('please provide your name'))"
   ]
  },
  {
   "cell_type": "code",
   "execution_count": 21,
   "id": "7e599ac6",
   "metadata": {},
   "outputs": [
    {
     "name": "stdout",
     "output_type": "stream",
     "text": [
      "please provide your passwordJames12\n"
     ]
    },
    {
     "data": {
      "text/plain": [
       "'CORRECT PASSWORD'"
      ]
     },
     "execution_count": 21,
     "metadata": {},
     "output_type": "execute_result"
    }
   ],
   "source": [
    "#write a lambda function to check if a user password start with an upper case and ends with a digit\n",
    "(lambda password:f'LOGIN SUCCESSFUL' if (password[0] == password[0].upper()) and (password[-1] == '0' or password[-1]== '1' or password[-1]=='2') else f'invalid password')(input('please provide your password'))"
   ]
  },
  {
   "cell_type": "code",
   "execution_count": 22,
   "id": "70cba47f",
   "metadata": {},
   "outputs": [],
   "source": [
    "#Map is used for the modification of (string,list,tuple and range)\n",
    "#filter is used for the filtering and selection of (string ,list,tuple and range)"
   ]
  },
  {
   "cell_type": "code",
   "execution_count": 23,
   "id": "f2e06c6c",
   "metadata": {},
   "outputs": [
    {
     "data": {
      "text/plain": [
       "['P', 'Y', 'T', 'H', 'O', 'N', ' ', 'I', 'S', ' ', 'F', 'U', 'N']"
      ]
     },
     "execution_count": 23,
     "metadata": {},
     "output_type": "execute_result"
    }
   ],
   "source": [
    "word = 'python is fun'\n",
    "update = list(map(lambda x:x.upper(),word))\n",
    "update"
   ]
  },
  {
   "cell_type": "code",
   "execution_count": 1,
   "id": "3b006020",
   "metadata": {},
   "outputs": [
    {
     "data": {
      "text/plain": [
       "['Bingo', 'Floopy', 'Batt', 'Henry', 'Rocky']"
      ]
     },
     "execution_count": 1,
     "metadata": {},
     "output_type": "execute_result"
    }
   ],
   "source": [
    "list1 = ['bingo','floopy','batt','henry','rocky']\n",
    "update = list(map(lambda x:x.title(),list1))\n",
    "update"
   ]
  },
  {
   "cell_type": "code",
   "execution_count": 2,
   "id": "eaa7b9f7",
   "metadata": {},
   "outputs": [
    {
     "name": "stdout",
     "output_type": "stream",
     "text": [
      "[2, 4, 6, 8, 10, 12, 14, 16, 18, 20, 22, 24, 26, 28, 30, 32, 34, 36, 38, 40, 42, 44, 46, 48, 50, 52, 54, 56, 58, 60, 62, 64, 66, 68, 70, 72, 74, 76, 78, 80, 82, 84, 86, 88, 90, 92, 94, 96, 98, 100, 102, 104, 106, 108, 110, 112, 114, 116, 118, 120, 122, 124, 126, 128, 130, 132, 134, 136, 138, 140, 142, 144, 146, 148, 150, 152, 154, 156, 158, 160, 162, 164, 166, 168, 170, 172, 174, 176, 178, 180, 182, 184, 186, 188, 190, 192, 194, 196, 198, 200]\n"
     ]
    }
   ],
   "source": [
    "even = list(filter(lambda x:x %2==0,range(1,201)))\n",
    "print(even)"
   ]
  },
  {
   "cell_type": "code",
   "execution_count": 3,
   "id": "83274d6b",
   "metadata": {},
   "outputs": [
    {
     "name": "stdout",
     "output_type": "stream",
     "text": [
      "[1, 3, 5, 7, 9, 11, 13, 15, 17, 19, 21, 23, 25, 27, 29, 31, 33, 35, 37, 39, 41, 43, 45, 47, 49, 51, 53, 55, 57, 59, 61, 63, 65, 67, 69, 71, 73, 75, 77, 79, 81, 83, 85, 87, 89, 91, 93, 95, 97, 99, 101, 103, 105, 107, 109, 111, 113, 115, 117, 119, 121, 123, 125, 127, 129, 131, 133, 135, 137, 139, 141, 143, 145, 147, 149, 151, 153, 155, 157, 159, 161, 163, 165, 167, 169, 171, 173, 175, 177, 179, 181, 183, 185, 187, 189, 191, 193, 195, 197, 199]\n"
     ]
    }
   ],
   "source": [
    "odd = list(filter(lambda x:x %2==1,range(1,201)))\n",
    "print(odd)"
   ]
  },
  {
   "cell_type": "code",
   "execution_count": 6,
   "id": "50c118fc",
   "metadata": {},
   "outputs": [
    {
     "name": "stdout",
     "output_type": "stream",
     "text": [
      "[1, 2, 3, 4, 5, 6, 7, 8, 9, 10, 11, 12, 13, 14, 15, 16, 17, 18, 19, 20, 21, 22, 23, 24, 25, 26, 27, 28, 29, 30, 31, 32, 33, 34, 35, 36, 37, 38, 39, 40, 41, 42, 43, 44, 45, 46, 47, 48, 49, 50, 51, 52, 53, 54, 55]\n"
     ]
    }
   ],
   "source": [
    "output = list(filter(lambda x:x <=55,range(1,201)))\n",
    "print(output)"
   ]
  },
  {
   "cell_type": "code",
   "execution_count": null,
   "id": "14ceeb84",
   "metadata": {},
   "outputs": [],
   "source": [
    " "
   ]
  }
 ],
 "metadata": {
  "kernelspec": {
   "display_name": "Python 3 (ipykernel)",
   "language": "python",
   "name": "python3"
  },
  "language_info": {
   "codemirror_mode": {
    "name": "ipython",
    "version": 3
   },
   "file_extension": ".py",
   "mimetype": "text/x-python",
   "name": "python",
   "nbconvert_exporter": "python",
   "pygments_lexer": "ipython3",
   "version": "3.9.12"
  }
 },
 "nbformat": 4,
 "nbformat_minor": 5
}
