{
 "cells": [
  {
   "cell_type": "code",
   "execution_count": 2,
   "id": "ba98c288",
   "metadata": {},
   "outputs": [
    {
     "name": "stdout",
     "output_type": "stream",
     "text": [
      "please provide first number75\n",
      "please provide second number45\n",
      "what is the sum of num1 and num2\n",
      "75 + 45 = 12075 + 45 = 12075 + 45 = 12075 + 45 = 12075 + 45 = 12075 + 45 = 12075 + 45 = 12075 + 45 = 12075 + 45 = 12075 + 45 = 120\n"
     ]
    }
   ],
   "source": [
    "try:\n",
    "    num1 = int(input('please provide first number'))\n",
    "    num2 = int(input('please provide second number'))\n",
    "    print('what is the sum of num1 and num2')\n",
    "    print(f'{num1} + {num2} = {num1 + num2}' *10)\n",
    "except ValueError:\n",
    "    print('INTEGER VALUE EXPECTED NOT FLOAT OR STRING')\n",
    "except:\n",
    "    print('YOU HAVE ENCOUNTERED ONE OR MORE ERRORS')\n",
    "   "
   ]
  },
  {
   "cell_type": "code",
   "execution_count": 10,
   "id": "9e53d108",
   "metadata": {},
   "outputs": [
    {
     "name": "stdout",
     "output_type": "stream",
     "text": [
      "13 + 35=48\n",
      "98 + 10=964\n",
      "34 + 65=484\n",
      "82 + 68=41\n",
      "20 + 22=46\n",
      "94 + 55=64\n",
      "65 + 97=664\n",
      "76 + 59=16\n",
      "67 + 39=31\n",
      "44 + 51=3\n",
      "Your score in answering 10 questions is 5 in 5 seconds\n"
     ]
    }
   ],
   "source": [
    "import random\n",
    "import datetime\n",
    "score = 0\n",
    "timetaken = 0 \n",
    "counter = 1 \n",
    "while counter <= 10:\n",
    "    num1 = random.randint(10,99)\n",
    "    num2 = random.randint(10,99)\n",
    "    starttime = datetime.datetime.now()\n",
    "    answer = int(input(f'{num1} + {num2}='))\n",
    "    if answer == sum([num1,num2]):\n",
    "        score +=5\n",
    "    else:\n",
    "        score +=0\n",
    "    stoptime = datetime.datetime.now()\n",
    "    diff = stoptime - starttime\n",
    "    timetaken += diff.seconds\n",
    "    counter += 1\n",
    "print(f'Your score in answering 10 questions is {score} in {timetaken} seconds')"
   ]
  },
  {
   "cell_type": "code",
   "execution_count": null,
   "id": "68f80f48",
   "metadata": {},
   "outputs": [],
   "source": []
  }
 ],
 "metadata": {
  "kernelspec": {
   "display_name": "Python 3 (ipykernel)",
   "language": "python",
   "name": "python3"
  },
  "language_info": {
   "codemirror_mode": {
    "name": "ipython",
    "version": 3
   },
   "file_extension": ".py",
   "mimetype": "text/x-python",
   "name": "python",
   "nbconvert_exporter": "python",
   "pygments_lexer": "ipython3",
   "version": "3.9.12"
  }
 },
 "nbformat": 4,
 "nbformat_minor": 5
}
