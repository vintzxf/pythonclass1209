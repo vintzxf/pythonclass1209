{
 "cells": [
  {
   "cell_type": "code",
   "execution_count": 2,
   "id": "c4e87549",
   "metadata": {},
   "outputs": [
    {
     "name": "stdout",
     "output_type": "stream",
     "text": [
      "['__doc__', '__loader__', '__name__', '__package__', '__spec__', 'acos', 'acosh', 'asin', 'asinh', 'atan', 'atan2', 'atanh', 'ceil', 'comb', 'copysign', 'cos', 'cosh', 'degrees', 'dist', 'e', 'erf', 'erfc', 'exp', 'expm1', 'fabs', 'factorial', 'floor', 'fmod', 'frexp', 'fsum', 'gamma', 'gcd', 'hypot', 'inf', 'isclose', 'isfinite', 'isinf', 'isnan', 'isqrt', 'lcm', 'ldexp', 'lgamma', 'log', 'log10', 'log1p', 'log2', 'modf', 'nan', 'nextafter', 'perm', 'pi', 'pow', 'prod', 'radians', 'remainder', 'sin', 'sinh', 'sqrt', 'tan', 'tanh', 'tau', 'trunc', 'ulp']\n"
     ]
    }
   ],
   "source": [
    "import math\n",
    "print(dir(math))"
   ]
  },
  {
   "cell_type": "code",
   "execution_count": 3,
   "id": "638c4eed",
   "metadata": {},
   "outputs": [
    {
     "name": "stdout",
     "output_type": "stream",
     "text": [
      "15\n",
      "14\n",
      "3.8078865529319543\n",
      "2.6741486494265287\n"
     ]
    }
   ],
   "source": [
    "num = 14.5\n",
    "print(math.ceil(num))\n",
    "print(math.floor(num))\n",
    "print(math.sqrt(num))\n",
    "print(math.log(num))"
   ]
  },
  {
   "cell_type": "code",
   "execution_count": 4,
   "id": "2dab12b2",
   "metadata": {},
   "outputs": [
    {
     "name": "stdout",
     "output_type": "stream",
     "text": [
      "['Counter', 'Decimal', 'Fraction', 'NormalDist', 'StatisticsError', '__all__', '__builtins__', '__cached__', '__doc__', '__file__', '__loader__', '__name__', '__package__', '__spec__', '_coerce', '_convert', '_exact_ratio', '_fail_neg', '_find_lteq', '_find_rteq', '_isfinite', '_normal_dist_inv_cdf', '_ss', '_sum', 'bisect_left', 'bisect_right', 'erf', 'exp', 'fabs', 'fmean', 'fsum', 'geometric_mean', 'groupby', 'harmonic_mean', 'hypot', 'itemgetter', 'log', 'math', 'mean', 'median', 'median_grouped', 'median_high', 'median_low', 'mode', 'multimode', 'numbers', 'pstdev', 'pvariance', 'quantiles', 'random', 'sqrt', 'stdev', 'tau', 'variance']\n"
     ]
    }
   ],
   "source": [
    "#statistics module\n",
    "import statistics as stat\n",
    "print(dir(stat))"
   ]
  },
  {
   "cell_type": "code",
   "execution_count": 6,
   "id": "a4d95d94",
   "metadata": {},
   "outputs": [
    {
     "name": "stdout",
     "output_type": "stream",
     "text": [
      "51.285714285714285\n",
      "45.0\n",
      "45\n"
     ]
    }
   ],
   "source": [
    "numbers = [45,89,80,65,45,20,45,23,65,62,30,5,99,45]\n",
    "print(stat.mean(numbers))\n",
    "print(stat.median(numbers))\n",
    "print(stat.mode(numbers))"
   ]
  },
  {
   "cell_type": "code",
   "execution_count": 7,
   "id": "2fd80025",
   "metadata": {},
   "outputs": [
    {
     "name": "stdout",
     "output_type": "stream",
     "text": [
      "['BPF', 'LOG4', 'NV_MAGICCONST', 'RECIP_BPF', 'Random', 'SG_MAGICCONST', 'SystemRandom', 'TWOPI', '_Sequence', '_Set', '__all__', '__builtins__', '__cached__', '__doc__', '__file__', '__loader__', '__name__', '__package__', '__spec__', '_accumulate', '_acos', '_bisect', '_ceil', '_cos', '_e', '_exp', '_floor', '_inst', '_log', '_os', '_pi', '_random', '_repeat', '_sha512', '_sin', '_sqrt', '_test', '_test_generator', '_urandom', '_warn', 'betavariate', 'choice', 'choices', 'expovariate', 'gammavariate', 'gauss', 'getrandbits', 'getstate', 'lognormvariate', 'normalvariate', 'paretovariate', 'randbytes', 'randint', 'random', 'randrange', 'sample', 'seed', 'setstate', 'shuffle', 'triangular', 'uniform', 'vonmisesvariate', 'weibullvariate']\n"
     ]
    }
   ],
   "source": [
    "import random\n",
    "print(dir(random))"
   ]
  },
  {
   "cell_type": "code",
   "execution_count": 8,
   "id": "99eb29f0",
   "metadata": {},
   "outputs": [
    {
     "name": "stdout",
     "output_type": "stream",
     "text": [
      "[45, 45, 30, 99, 80, 65, 62, 20, 89, 5, 23, 65, 45, 45]\n"
     ]
    }
   ],
   "source": [
    "random.shuffle(numbers)\n",
    "print(numbers)"
   ]
  },
  {
   "cell_type": "code",
   "execution_count": 9,
   "id": "de0b35af",
   "metadata": {},
   "outputs": [
    {
     "data": {
      "text/plain": [
       "23"
      ]
     },
     "execution_count": 9,
     "metadata": {},
     "output_type": "execute_result"
    }
   ],
   "source": [
    "random.choice(numbers)"
   ]
  },
  {
   "cell_type": "code",
   "execution_count": 11,
   "id": "be7243a8",
   "metadata": {},
   "outputs": [
    {
     "data": {
      "text/plain": [
       "26"
      ]
     },
     "execution_count": 11,
     "metadata": {},
     "output_type": "execute_result"
    }
   ],
   "source": [
    "random.randint(10,40)"
   ]
  },
  {
   "cell_type": "code",
   "execution_count": 13,
   "id": "ca14ef5b",
   "metadata": {},
   "outputs": [
    {
     "name": "stdout",
     "output_type": "stream",
     "text": [
      "please provide a number:7\n",
      "7 is a positive number\n"
     ]
    }
   ],
   "source": [
    "#conditional statenebt\n",
    "\n",
    "num = int(input('please provide a number:'))\n",
    "if num > 0:\n",
    "    print(f'{num} is a positive number')"
   ]
  },
  {
   "cell_type": "code",
   "execution_count": 14,
   "id": "b1030420",
   "metadata": {},
   "outputs": [
    {
     "name": "stdout",
     "output_type": "stream",
     "text": [
      "please provide a number:0\n",
      "0 is a negative number or zero\n"
     ]
    }
   ],
   "source": [
    "num = int(input('please provide a number:'))\n",
    "if num > 0:\n",
    "    print(f'{num} is a positive number')\n",
    "else:\n",
    "    print(f'{num} is a negative number or zero')"
   ]
  },
  {
   "cell_type": "code",
   "execution_count": 18,
   "id": "c2c9b36e",
   "metadata": {},
   "outputs": [
    {
     "name": "stdout",
     "output_type": "stream",
     "text": [
      "ade made a lost of 1900\n"
     ]
    }
   ],
   "source": [
    "#Exercise one\n",
    "#ade bought 8 banana for 800 each two got spoilt and he sold the remaining 6 at 750 each write a program to check if profit was made or lost\n",
    "\n",
    "totalbanana = 8\n",
    "sp = 750 * 6\n",
    "cp = 800 * totalbanana\n",
    "\n",
    "if cp > sp:\n",
    "    print(f'ade made a lost of {cp - sp}')\n",
    "else:\n",
    "    print(f'ade made a profit of {sp- cp}')"
   ]
  },
  {
   "cell_type": "code",
   "execution_count": 27,
   "id": "e1528e46",
   "metadata": {},
   "outputs": [
    {
     "name": "stdout",
     "output_type": "stream",
     "text": [
      "please provide a number:8\n",
      "8 is a positive number\n"
     ]
    }
   ],
   "source": [
    "num = int(input('please provide a number:'))\n",
    "if num > 0:\n",
    "    print(f'{num} is a positive number')\n",
    "else:\n",
    "   if num < 0:\n",
    "        print(f'{num} is a negative number')\n",
    "   else:\n",
    "        print(f'{num} is  zero')"
   ]
  },
  {
   "cell_type": "code",
   "execution_count": 30,
   "id": "8e5023ec",
   "metadata": {},
   "outputs": [
    {
     "name": "stdout",
     "output_type": "stream",
     "text": [
      "please provide a number:-7\n",
      "-7 is a negative number\n"
     ]
    }
   ],
   "source": [
    "num = int(input('please provide a number:'))\n",
    "if num > 0:\n",
    "    print(f'{num} is a positive number')\n",
    "elif num < 0:\n",
    "    print(f'{num} is a negative number')\n",
    "else:\n",
    "    print(f'{num} is zero')"
   ]
  },
  {
   "cell_type": "code",
   "execution_count": 34,
   "id": "7230024e",
   "metadata": {},
   "outputs": [
    {
     "name": "stdout",
     "output_type": "stream",
     "text": [
      "MathScore80\n",
      "EnglishScore82\n",
      "BiologyScore72\n",
      "ChemistryScore83\n",
      "PhysicsScore84\n",
      "AgricScore74\n",
      "EconomicsScore75\n",
      "GeographyScore73\n",
      "your average score in the above subject is 77.875 your grade is A\n"
     ]
    }
   ],
   "source": [
    "sub1 = float(input('MathScore'))\n",
    "sub2 = float(input('EnglishScore'))\n",
    "sub3 = float(input('BiologyScore'))\n",
    "sub4 = float(input('ChemistryScore'))\n",
    "sub5 = float(input('PhysicsScore'))\n",
    "sub6 = float(input('AgricScore'))\n",
    "sub7 = float(input('EconomicsScore'))\n",
    "sub8 = float(input('GeographyScore'))\n",
    "\n",
    "Average_score = sum([sub1,sub2,sub3,sub4,sub5,sub6,sub7,sub8])/8\n",
    "if Average_score >= 70 and Average_score <= 100:\n",
    "    print(f'your average score in the above subject is {Average_score} your grade is A')\n",
    "elif Average_score >= 60 and Average_score <= 69.99:\n",
    "    print(f'your average score in the above subject is {Average_score} your grade is B')\n",
    "elif Average_score >= 50 and Average_score <= 59.99:\n",
    "    print(f'your average score in the above subject is {Average_score} your grade is C')\n",
    "elif Average_score >= 40 and Average_score <= 49.99:\n",
    "    print(f'your average score in the above subject is {Average_score} your grade is D')\n",
    "elif Average_score >= 31 and Average_score <= 39.99:\n",
    "    print(f'your average score in the above subject is {Average_score} your grade is E')\n",
    "else:\n",
    "    print(f'your average score in the above subject is {Average_score} your grade is F')\n"
   ]
  },
  {
   "cell_type": "code",
   "execution_count": null,
   "id": "3e15cdc0",
   "metadata": {},
   "outputs": [],
   "source": []
  }
 ],
 "metadata": {
  "kernelspec": {
   "display_name": "Python 3 (ipykernel)",
   "language": "python",
   "name": "python3"
  },
  "language_info": {
   "codemirror_mode": {
    "name": "ipython",
    "version": 3
   },
   "file_extension": ".py",
   "mimetype": "text/x-python",
   "name": "python",
   "nbconvert_exporter": "python",
   "pygments_lexer": "ipython3",
   "version": "3.9.12"
  }
 },
 "nbformat": 4,
 "nbformat_minor": 5
}
