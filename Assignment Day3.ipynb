{
 "cells": [
  {
   "cell_type": "code",
   "execution_count": 1,
   "id": "fb69ff92",
   "metadata": {},
   "outputs": [
    {
     "name": "stdout",
     "output_type": "stream",
     "text": [
      "<class 'tuple'>\n"
     ]
    }
   ],
   "source": [
    "numbers = (46,53,45,48,55,45,49,51,51,58,50,55,53,57,50,46,55,55,47,57,55)\n",
    "print(type(numbers))"
   ]
  },
  {
   "cell_type": "code",
   "execution_count": 12,
   "id": "9d739705",
   "metadata": {},
   "outputs": [
    {
     "ename": "NameError",
     "evalue": "name 'reverse' is not defined",
     "output_type": "error",
     "traceback": [
      "\u001b[1;31m---------------------------------------------------------------------------\u001b[0m",
      "\u001b[1;31mNameError\u001b[0m                                 Traceback (most recent call last)",
      "Input \u001b[1;32mIn [12]\u001b[0m, in \u001b[0;36m<cell line: 4>\u001b[1;34m()\u001b[0m\n\u001b[0;32m      1\u001b[0m \u001b[38;5;66;03m#number1\u001b[39;00m\n\u001b[0;32m      3\u001b[0m numbers \u001b[38;5;241m=\u001b[39m (\u001b[38;5;241m46\u001b[39m,\u001b[38;5;241m53\u001b[39m,\u001b[38;5;241m45\u001b[39m,\u001b[38;5;241m48\u001b[39m,\u001b[38;5;241m55\u001b[39m,\u001b[38;5;241m45\u001b[39m,\u001b[38;5;241m49\u001b[39m,\u001b[38;5;241m51\u001b[39m,\u001b[38;5;241m51\u001b[39m,\u001b[38;5;241m58\u001b[39m,\u001b[38;5;241m50\u001b[39m,\u001b[38;5;241m55\u001b[39m,\u001b[38;5;241m53\u001b[39m,\u001b[38;5;241m57\u001b[39m,\u001b[38;5;241m50\u001b[39m,\u001b[38;5;241m46\u001b[39m,\u001b[38;5;241m55\u001b[39m,\u001b[38;5;241m55\u001b[39m,\u001b[38;5;241m47\u001b[39m,\u001b[38;5;241m57\u001b[39m,\u001b[38;5;241m55\u001b[39m)\n\u001b[1;32m----> 4\u001b[0m \u001b[43mreverse\u001b[49m(numbers)\n",
      "\u001b[1;31mNameError\u001b[0m: name 'reverse' is not defined"
     ]
    }
   ],
   "source": [
    "#number1\n",
    "\n",
    "numbers = (46,53,45,48,55,45,49,51,51,58,50,55,53,57,50,46,55,55,47,57,55)\n",
    "reverse(numbers)\n"
   ]
  },
  {
   "cell_type": "code",
   "execution_count": 9,
   "id": "a3987c41",
   "metadata": {},
   "outputs": [
    {
     "name": "stdout",
     "output_type": "stream",
     "text": [
      "21\n"
     ]
    }
   ],
   "source": [
    "print(len(numbers))"
   ]
  },
  {
   "cell_type": "code",
   "execution_count": 16,
   "id": "7a4ecbd5",
   "metadata": {},
   "outputs": [
    {
     "name": "stdout",
     "output_type": "stream",
     "text": [
      "58\n",
      "58\n"
     ]
    }
   ],
   "source": [
    "#number2\n",
    "\n",
    "print(numbers[-10])\n",
    "print(numbers[11])"
   ]
  },
  {
   "cell_type": "code",
   "execution_count": 17,
   "id": "dffdea3d",
   "metadata": {},
   "outputs": [
    {
     "data": {
      "text/plain": [
       "5"
      ]
     },
     "execution_count": 17,
     "metadata": {},
     "output_type": "execute_result"
    }
   ],
   "source": [
    "#number3\n",
    "\n",
    "numbers.count(55)"
   ]
  },
  {
   "cell_type": "code",
   "execution_count": 46,
   "id": "f077d1c7",
   "metadata": {},
   "outputs": [
    {
     "name": "stdout",
     "output_type": "stream",
     "text": [
      "49 [7]\n"
     ]
    }
   ],
   "source": [
    "#number4\n",
    "\n",
    "print(numbers[14],[7])"
   ]
  },
  {
   "cell_type": "code",
   "execution_count": 60,
   "id": "f27279c3",
   "metadata": {},
   "outputs": [],
   "source": [
    "items = ['46','53','45','48','55','45','49','51','51','58','50','55','53','57','50','46','55','55','47','57','55'] "
   ]
  },
  {
   "cell_type": "code",
   "execution_count": 61,
   "id": "6b61630b",
   "metadata": {},
   "outputs": [
    {
     "name": "stdout",
     "output_type": "stream",
     "text": [
      "['55', '57', '47', '55', '55', '46', '50', '57', '53', '55', '50', '58', '51', '51', '49', '45', '55', '48', '45', '53', '46']\n"
     ]
    }
   ],
   "source": [
    "#lists number1\n",
    "\n",
    "items.reverse()\n",
    "print(items)"
   ]
  },
  {
   "cell_type": "code",
   "execution_count": 87,
   "id": "99773870",
   "metadata": {},
   "outputs": [
    {
     "name": "stdout",
     "output_type": "stream",
     "text": [
      "58\n"
     ]
    }
   ],
   "source": [
    "#number2\n",
    "\n",
    "print(items[9])"
   ]
  },
  {
   "cell_type": "code",
   "execution_count": 67,
   "id": "8e9a2c28",
   "metadata": {},
   "outputs": [
    {
     "data": {
      "text/plain": [
       "0"
      ]
     },
     "execution_count": 67,
     "metadata": {},
     "output_type": "execute_result"
    }
   ],
   "source": [
    "#number3\n",
    "\n",
    "items.count(51)"
   ]
  },
  {
   "cell_type": "code",
   "execution_count": 75,
   "id": "6800d05b",
   "metadata": {},
   "outputs": [
    {
     "name": "stdout",
     "output_type": "stream",
     "text": [
      "50 [7]\n"
     ]
    }
   ],
   "source": [
    "#number4\n",
    "\n",
    "print(items[14],[7])"
   ]
  },
  {
   "cell_type": "code",
   "execution_count": 78,
   "id": "66faf6e7",
   "metadata": {},
   "outputs": [
    {
     "name": "stdout",
     "output_type": "stream",
     "text": [
      "['46', '53', '45', '48', '55', '45', '49', '51', '51', '58', '50', '55', '53', '57', ['69'], '69', '69', '50', '46', '55', '55', '47', '57', '55']\n"
     ]
    }
   ],
   "source": [
    "#number5\n",
    "\n",
    "items.insert(14,'69')\n",
    "print(items)"
   ]
  },
  {
   "cell_type": "code",
   "execution_count": 82,
   "id": "eab1a43c",
   "metadata": {},
   "outputs": [],
   "source": [
    "items.remove(['69'])"
   ]
  },
  {
   "cell_type": "code",
   "execution_count": 83,
   "id": "00f21715",
   "metadata": {},
   "outputs": [
    {
     "name": "stdout",
     "output_type": "stream",
     "text": [
      "['46', '53', '45', '48', '55', '45', '49', '51', '51', '58', '50', '55', '53', '57', '69', '50', '46', '55', '55', '47', '57', '55']\n"
     ]
    }
   ],
   "source": [
    "print(items)"
   ]
  },
  {
   "cell_type": "code",
   "execution_count": 84,
   "id": "bbd3915b",
   "metadata": {},
   "outputs": [
    {
     "name": "stdout",
     "output_type": "stream",
     "text": [
      "['46', '53', '45', '48', '55', '45', '49', '51', '51', '58', '50', '55', '53', '57', '69', '50', '46', '55', '55', '47', '57', '55', '89', '85', '36', '95', '45', '78']\n"
     ]
    }
   ],
   "source": [
    "#nuumber6\n",
    "\n",
    "new_value = ['89','85','36','95','45','78']\n",
    "items.extend(new_value)\n",
    "print(items)"
   ]
  },
  {
   "cell_type": "code",
   "execution_count": 97,
   "id": "57ea15ff",
   "metadata": {},
   "outputs": [
    {
     "name": "stdout",
     "output_type": "stream",
     "text": [
      "dict_keys(['Manchesterunited', 'Manchestercity', 'Chelsea', 'Juventus', 'Realmadrid', 'Barcelona', 'PSG', 'Roma', 'Arsenal', 'Liverpool'])\n"
     ]
    }
   ],
   "source": [
    "details = {\n",
    "    'Manchesterunited':('England','Erik','fernandes','$11.6','4-3-3'),\n",
    "    'Manchestercity':('England','pep','Gundogan','$25','4-3-3'),\n",
    "    'Chelsea':('England','graham','azpilicueta','$20','3-5-2'),\n",
    "    'Juventus':('Italy','Allegri','Bonucci','$22','4-3-3'),\n",
    "    'Realmadrid':('Spain','Ancelloti','Benzema','$25','4-3-3'),\n",
    "    'Barcelona':('Spain','xavi','Busquets','$25','4-3-3'),\n",
    "    'PSG':('France','Galtier','maquinnos','£56','4-3-3'),\n",
    "    'Roma':('Italy','Moringho','pallegrini','$25','3-4-2-1'),\n",
    "    'Arsenal':('England','Arteta','Odegard','$17','4-3-3'),\n",
    "    'Liverpool':('England','Klopp','Hendersen','$25','4-3-3')\n",
    "}\n",
    "\n",
    "print(details.keys())"
   ]
  },
  {
   "cell_type": "code",
   "execution_count": 99,
   "id": "80700f9b",
   "metadata": {},
   "outputs": [
    {
     "name": "stdout",
     "output_type": "stream",
     "text": [
      "dict_values([('England', 'Erik', 'fernandes', '$11.6', '4-3-3'), ('England', 'pep', 'Gundogan', '$25', '4-3-3'), ('England', 'graham', 'azpilicueta', '$20', '3-5-2'), ('Italy', 'Allegri', 'Bonucci', '$22', '4-3-3'), ('Spain', 'Ancelloti', 'Benzema', '$25', '4-3-3'), ('Spain', 'xavi', 'Busquets', '$25', '4-3-3'), ('France', 'Galtier', 'maquinnos', '£56', '4-3-3'), ('Italy', 'Moringho', 'pallegrini', '$25', '3-4-2-1'), ('England', 'Arteta', 'Odegard', '$17', '4-3-3'), ('England', 'Klopp', 'Hendersen', '$25', '4-3-3')])\n"
     ]
    }
   ],
   "source": [
    "print(details.values())"
   ]
  },
  {
   "cell_type": "code",
   "execution_count": 100,
   "id": "f289d7a5",
   "metadata": {},
   "outputs": [
    {
     "data": {
      "text/plain": [
       "dict_items([('Manchesterunited', ('England', 'Erik', 'fernandes', '$11.6', '4-3-3')), ('Manchestercity', ('England', 'pep', 'Gundogan', '$25', '4-3-3')), ('Chelsea', ('England', 'graham', 'azpilicueta', '$20', '3-5-2')), ('Juventus', ('Italy', 'Allegri', 'Bonucci', '$22', '4-3-3')), ('Realmadrid', ('Spain', 'Ancelloti', 'Benzema', '$25', '4-3-3')), ('Barcelona', ('Spain', 'xavi', 'Busquets', '$25', '4-3-3')), ('PSG', ('France', 'Galtier', 'maquinnos', '£56', '4-3-3')), ('Roma', ('Italy', 'Moringho', 'pallegrini', '$25', '3-4-2-1')), ('Arsenal', ('England', 'Arteta', 'Odegard', '$17', '4-3-3')), ('Liverpool', ('England', 'Klopp', 'Hendersen', '$25', '4-3-3'))])"
      ]
     },
     "execution_count": 100,
     "metadata": {},
     "output_type": "execute_result"
    }
   ],
   "source": [
    "details.items()"
   ]
  },
  {
   "cell_type": "code",
   "execution_count": null,
   "id": "15152fef",
   "metadata": {},
   "outputs": [],
   "source": []
  }
 ],
 "metadata": {
  "kernelspec": {
   "display_name": "Python 3 (ipykernel)",
   "language": "python",
   "name": "python3"
  },
  "language_info": {
   "codemirror_mode": {
    "name": "ipython",
    "version": 3
   },
   "file_extension": ".py",
   "mimetype": "text/x-python",
   "name": "python",
   "nbconvert_exporter": "python",
   "pygments_lexer": "ipython3",
   "version": "3.9.12"
  }
 },
 "nbformat": 4,
 "nbformat_minor": 5
}
