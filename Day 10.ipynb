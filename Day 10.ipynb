{
 "cells": [
  {
   "cell_type": "code",
   "execution_count": 1,
   "id": "a04c268e",
   "metadata": {},
   "outputs": [],
   "source": [
    "import datetime"
   ]
  },
  {
   "cell_type": "code",
   "execution_count": 2,
   "id": "59c5afcc",
   "metadata": {},
   "outputs": [
    {
     "name": "stdout",
     "output_type": "stream",
     "text": [
      "['MAXYEAR', 'MINYEAR', '__all__', '__builtins__', '__cached__', '__doc__', '__file__', '__loader__', '__name__', '__package__', '__spec__', 'date', 'datetime', 'datetime_CAPI', 'sys', 'time', 'timedelta', 'timezone', 'tzinfo']\n"
     ]
    }
   ],
   "source": [
    "print(dir(datetime))"
   ]
  },
  {
   "cell_type": "code",
   "execution_count": 4,
   "id": "87164a10",
   "metadata": {},
   "outputs": [
    {
     "data": {
      "text/plain": [
       "datetime.date(2022, 5, 25)"
      ]
     },
     "execution_count": 4,
     "metadata": {},
     "output_type": "execute_result"
    }
   ],
   "source": [
    "mydate = datetime.date(2022,5,25)\n",
    "mydate"
   ]
  },
  {
   "cell_type": "code",
   "execution_count": 5,
   "id": "9c563dba",
   "metadata": {},
   "outputs": [
    {
     "name": "stdout",
     "output_type": "stream",
     "text": [
      "2022\n",
      "5\n",
      "25\n",
      "2\n",
      "3\n"
     ]
    }
   ],
   "source": [
    "print(mydate.year)\n",
    "print(mydate.month)\n",
    "print(mydate.day)\n",
    "print(mydate.weekday())\n",
    "print(mydate.isoweekday())"
   ]
  },
  {
   "cell_type": "code",
   "execution_count": 6,
   "id": "66eb3e59",
   "metadata": {},
   "outputs": [
    {
     "data": {
      "text/plain": [
       "datetime.date(2022, 10, 3)"
      ]
     },
     "execution_count": 6,
     "metadata": {},
     "output_type": "execute_result"
    }
   ],
   "source": [
    "currentdate = datetime.date.today()\n",
    "currentdate"
   ]
  },
  {
   "cell_type": "code",
   "execution_count": 28,
   "id": "c2a4ef19",
   "metadata": {},
   "outputs": [
    {
     "data": {
      "text/plain": [
       "'03 of O'"
      ]
     },
     "execution_count": 28,
     "metadata": {},
     "output_type": "execute_result"
    }
   ],
   "source": [
    "#strftime is used for the modification of date and time\n",
    "currentdate.strftime('%d of ')"
   ]
  },
  {
   "cell_type": "code",
   "execution_count": 29,
   "id": "19867714",
   "metadata": {},
   "outputs": [
    {
     "ename": "NameError",
     "evalue": "name 'mytime' is not defined",
     "output_type": "error",
     "traceback": [
      "\u001b[1;31m---------------------------------------------------------------------------\u001b[0m",
      "\u001b[1;31mNameError\u001b[0m                                 Traceback (most recent call last)",
      "Input \u001b[1;32mIn [29]\u001b[0m, in \u001b[0;36m<cell line: 1>\u001b[1;34m()\u001b[0m\n\u001b[1;32m----> 1\u001b[0m \u001b[43mmytime\u001b[49m\n",
      "\u001b[1;31mNameError\u001b[0m: name 'mytime' is not defined"
     ]
    }
   ],
   "source": [
    "mytime"
   ]
  },
  {
   "cell_type": "code",
   "execution_count": 31,
   "id": "9c924c2c",
   "metadata": {},
   "outputs": [
    {
     "data": {
      "text/plain": [
       "datetime.time(10, 48, 40, 925550)"
      ]
     },
     "execution_count": 31,
     "metadata": {},
     "output_type": "execute_result"
    }
   ],
   "source": [
    "currenttime = datetime.datetime.now().time()\n",
    "currenttime"
   ]
  },
  {
   "cell_type": "code",
   "execution_count": 34,
   "id": "e52b4c1b",
   "metadata": {},
   "outputs": [
    {
     "data": {
      "text/plain": [
       "'10:48::40'"
      ]
     },
     "execution_count": 34,
     "metadata": {},
     "output_type": "execute_result"
    }
   ],
   "source": [
    "currenttime.strftime('%H:%M::%S')"
   ]
  },
  {
   "cell_type": "code",
   "execution_count": 35,
   "id": "2f29e20b",
   "metadata": {},
   "outputs": [
    {
     "data": {
      "text/plain": [
       "datetime.datetime(2022, 10, 3, 10, 50, 43, 131710)"
      ]
     },
     "execution_count": 35,
     "metadata": {},
     "output_type": "execute_result"
    }
   ],
   "source": [
    "current_date_time = datetime.datetime.now()\n",
    "current_date_time"
   ]
  },
  {
   "cell_type": "code",
   "execution_count": 42,
   "id": "eafeb602",
   "metadata": {},
   "outputs": [
    {
     "name": "stdout",
     "output_type": "stream",
     "text": [
      "Please provide your date(m/d/y)3/25/2022\n",
      "2022-03-25\n"
     ]
    }
   ],
   "source": [
    "#strptime is used to convert a date in string to datetime format\n",
    "usersdate = input('Please provide your date(m/d/y)')\n",
    "cdate = datetime.datetime.strptime(usersdate,'%m/%d/%Y').date()\n",
    "print(cdate)"
   ]
  },
  {
   "cell_type": "code",
   "execution_count": 50,
   "id": "3dae992e",
   "metadata": {},
   "outputs": [],
   "source": [
    "cdate = currentdate"
   ]
  },
  {
   "cell_type": "code",
   "execution_count": 48,
   "id": "9bd2f53f",
   "metadata": {},
   "outputs": [
    {
     "data": {
      "text/plain": [
       "datetime.date(2023, 1, 21)"
      ]
     },
     "execution_count": 48,
     "metadata": {},
     "output_type": "execute_result"
    }
   ],
   "source": [
    "currentdate + datetime.timedelta(days = 110)"
   ]
  },
  {
   "cell_type": "code",
   "execution_count": 49,
   "id": "cbe1a390",
   "metadata": {},
   "outputs": [
    {
     "data": {
      "text/plain": [
       "datetime.date(2022, 6, 15)"
      ]
     },
     "execution_count": 49,
     "metadata": {},
     "output_type": "execute_result"
    }
   ],
   "source": [
    "currentdate - datetime.timedelta(days = 110)"
   ]
  },
  {
   "cell_type": "code",
   "execution_count": 75,
   "id": "7cd1ffc5",
   "metadata": {},
   "outputs": [
    {
     "name": "stdout",
     "output_type": "stream",
     "text": [
      "Please provide your date(m/d/y)11/4/2022\n",
      "2022-11-04\n",
      "you have True days to your appointment \n"
     ]
    }
   ],
   "source": [
    "#write a program to calculate a user appointment date from the current date and tell the user how many weeks and days left to the appointment.\n",
    "import math\n",
    "\n",
    "\n",
    "usersdate = input('Please provide your date(m/d/y)')\n",
    "cdate = datetime.datetime.strptime(usersdate,'%m/%d/%Y').date()\n",
    "print(cdate)\n",
    "\n",
    "cdate = currentdate\n",
    "currentdate - datetime.timedelta(days = 40)\n",
    "\n",
    "daysleft = ((currentdate) - (datetime.timedelta(days = 40)) == (currentdate - datetime.timedelta(days = 40)))\n",
    "print(f'you have {daysleft} days to your appointment ')"
   ]
  },
  {
   "cell_type": "code",
   "execution_count": 88,
   "id": "18371368",
   "metadata": {},
   "outputs": [
    {
     "name": "stdout",
     "output_type": "stream",
     "text": [
      "please provide your appointment date(d/m/y)11/12/2023\n",
      "Dear user you have 57 weeks and 6 days until your appointment\n"
     ]
    }
   ],
   "source": [
    "usersdate = input('please provide your appointment date(d/m/y)')\n",
    "conusersdate = datetime.datetime.strptime(usersdate, '%m/%d/%Y').date()\n",
    "currentdate = datetime.date.today()\n",
    "total_numbers_of_days = conusersdate - currentdate\n",
    "num_of_weeks = total_numbers_of_days.days // 7\n",
    "num_of_days = total_numbers_of_days.days % 7\n",
    "print(f'Dear user you have {num_of_weeks} weeks and {num_of_days} days until your appointment')"
   ]
  },
  {
   "cell_type": "code",
   "execution_count": 89,
   "id": "f0a6db89",
   "metadata": {},
   "outputs": [],
   "source": [
    "file = open('demo.txt','w')\n",
    "file.write('''usersdate = input('please provide your appointment date(d/m/y)')\n",
    "conusersdate = datetime.datetime.strptime(usersdate, '%m/%d/%Y').date()\n",
    "currentdate = datetime.date.today()\n",
    "total_numbers_of_days = conusersdate - currentdate\n",
    "num_of_weeks = total_numbers_of_days.days // 7\n",
    "num_of_days = total_numbers_of_days.days % 7\n",
    "print(f'Dear user you have {num_of_weeks} weeks and {num_of_days} days until your appointment')\n",
    "''')\n",
    "file.close()"
   ]
  },
  {
   "cell_type": "code",
   "execution_count": 91,
   "id": "39e5fb8d",
   "metadata": {},
   "outputs": [
    {
     "name": "stdout",
     "output_type": "stream",
     "text": [
      "word = (\"python is fun\\npython is easy\\npython is interactive in nature\")\n",
      "print(word)\n",
      "print(\"hello world\")\n",
      "print(\"welcome to python class segun\")\n",
      "\n",
      "\n",
      "\n",
      "price1 = 15000\n",
      "price2 = 30500\n",
      "price3 = 45000\n",
      "sales_report = 'i sold two pairs of shirts for {} and a suit for {}'\n",
      "print(sales_report.format(price1,price2))\n",
      "print(f'i sold two pairs of shirts for {price1}, two pairs of shirt for {price2} and a suit for {price3}')\n",
      "\n",
      "\n",
      "\n",
      "\n",
      "word1 = 'python'\n",
      "word2 = 'PYTHON'\n",
      "word3 = 'python is fun'\n",
      "word4 = '   info'\n",
      "print(word1.upper())\n",
      "print(word2.lower())\n",
      "print(word3.title())\n",
      "print(word3.capitalize())\n",
      "print(word3.split())\n",
      "print(word4.strip())\n",
      "\n",
      "\n",
      "\n",
      "\n"
     ]
    }
   ],
   "source": [
    "file = open('day1.py','r')\n",
    "print(file.read())\n",
    "file.close()"
   ]
  },
  {
   "cell_type": "code",
   "execution_count": 92,
   "id": "42955c66",
   "metadata": {},
   "outputs": [],
   "source": [
    "file = open('demo.txt','a')\n",
    "file.write('End of program')\n",
    "file.close()"
   ]
  },
  {
   "cell_type": "code",
   "execution_count": 93,
   "id": "31bebea4",
   "metadata": {},
   "outputs": [
    {
     "name": "stdout",
     "output_type": "stream",
     "text": [
      "usersdate = input('please provide your appointment date(d/m/y)')\n",
      "conusersdate = datetime.datetime.strptime(usersdate, '%m/%d/%Y').date()\n",
      "currentdate = datetime.date.today()\n",
      "total_numbers_of_days = conusersdate - currentdate\n",
      "num_of_weeks = total_numbers_of_days.days // 7\n",
      "num_of_days = total_numbers_of_days.days % 7\n",
      "print(f'Dear user you have {num_of_weeks} weeks and {num_of_days} days until your appointment')\n",
      "End of program\n"
     ]
    },
    {
     "data": {
      "text/plain": [
       "<function TextIOWrapper.close()>"
      ]
     },
     "execution_count": 93,
     "metadata": {},
     "output_type": "execute_result"
    }
   ],
   "source": [
    "file = open('demo.txt','r+')\n",
    "print(file.read())\n",
    "file.write('Python is fun')\n",
    "file.close"
   ]
  },
  {
   "cell_type": "code",
   "execution_count": null,
   "id": "630b3349",
   "metadata": {},
   "outputs": [],
   "source": []
  }
 ],
 "metadata": {
  "kernelspec": {
   "display_name": "Python 3 (ipykernel)",
   "language": "python",
   "name": "python3"
  },
  "language_info": {
   "codemirror_mode": {
    "name": "ipython",
    "version": 3
   },
   "file_extension": ".py",
   "mimetype": "text/x-python",
   "name": "python",
   "nbconvert_exporter": "python",
   "pygments_lexer": "ipython3",
   "version": "3.9.12"
  }
 },
 "nbformat": 4,
 "nbformat_minor": 5
}
