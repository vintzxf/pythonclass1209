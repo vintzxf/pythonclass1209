{
 "cells": [
  {
   "cell_type": "code",
   "execution_count": null,
   "id": "d5c60cd1",
   "metadata": {},
   "outputs": [],
   "source": [
    "## class and oblect"
   ]
  },
  {
   "cell_type": "code",
   "execution_count": 13,
   "id": "a450362f",
   "metadata": {},
   "outputs": [],
   "source": [
    "class dog:\n",
    "    attr1 = 'Mammal'\n",
    "    attr2 = 'Bark'\n",
    "obj = dog()"
   ]
  },
  {
   "cell_type": "code",
   "execution_count": 14,
   "id": "bb14a7b2",
   "metadata": {},
   "outputs": [
    {
     "data": {
      "text/plain": [
       "'Mammal'"
      ]
     },
     "execution_count": 14,
     "metadata": {},
     "output_type": "execute_result"
    }
   ],
   "source": [
    "obj.attr1"
   ]
  },
  {
   "cell_type": "code",
   "execution_count": 15,
   "id": "b9f17b01",
   "metadata": {},
   "outputs": [
    {
     "data": {
      "text/plain": [
       "'Bark'"
      ]
     },
     "execution_count": 15,
     "metadata": {},
     "output_type": "execute_result"
    }
   ],
   "source": [
    "obj.attr2"
   ]
  },
  {
   "cell_type": "code",
   "execution_count": 16,
   "id": "3ffce4a8",
   "metadata": {},
   "outputs": [
    {
     "name": "stdout",
     "output_type": "stream",
     "text": [
      "Obj Belongs to the family of Mammal\n"
     ]
    }
   ],
   "source": [
    "class dog:\n",
    "    attr1 = 'Mammal'\n",
    "    attr2 = 'bark'\n",
    "    def family(self):\n",
    "        print(f'Obj Belongs to the family of {self.attr1}')\n",
    "    def detsils(self):\n",
    "        print(f'Obj can {self.attr2}')\n",
    "obj = dog()\n",
    "obj.family()"
   ]
  },
  {
   "cell_type": "code",
   "execution_count": null,
   "id": "2b66f72c",
   "metadata": {},
   "outputs": [],
   "source": []
  },
  {
   "cell_type": "code",
   "execution_count": 23,
   "id": "4b7da687",
   "metadata": {},
   "outputs": [
    {
     "name": "stdout",
     "output_type": "stream",
     "text": [
      "Audi A6 has started\n",
      "None\n",
      "please select a gear2\n",
      "None\n",
      "Nitro On, ready for maximum Acceleration\n",
      "None\n",
      "Audi A6 has stopped, simulation over\n",
      "None\n"
     ]
    }
   ],
   "source": [
    "class car_simulation:\n",
    "    def __init__(self ,brand,model,color,year,speed):\n",
    "        self.brand = brand\n",
    "        self.model = model\n",
    "        self.color = color\n",
    "        self.year = year\n",
    "        self.speed = speed\n",
    "        \n",
    "    def start(self):\n",
    "        print(f'{self.brand} {self.model} has started')\n",
    "    def gear(self):\n",
    "        choice = int(input('please select a gear'))\n",
    "        if choice == 1:\n",
    "            print('Gear 1 selected')\n",
    "        elif choice == 1:\n",
    "            print('Gear 2 selected')\n",
    "        elif choice == 3:\n",
    "            print('Gear 3 selected')\n",
    "        elif choice == 4:\n",
    "            print('Gear 4 selected')\n",
    "        elif choice == 5:\n",
    "            print('Gear 5 selected')\n",
    "        elif choice == 6:\n",
    "            print('Gear placed on reverse')\n",
    "    def accelerate(self,ch):\n",
    "        if ch == 1:\n",
    "            print('Nitro On, ready for maximum Acceleration')\n",
    "        elif ch == 2:\n",
    "            print('Nitro off')\n",
    "        else:\n",
    "            print('Nitro Option not recognized')\n",
    "    def stop(self):\n",
    "        print(f'{self.brand} {self.model} has stopped, simulation over')\n",
    "car1 = car_simulation('Audi','A6','black',2019,250)\n",
    "print(car1.start())\n",
    "print(car1.gear())\n",
    "print(car1.accelerate(1))\n",
    "print(car1.stop())"
   ]
  },
  {
   "cell_type": "code",
   "execution_count": 31,
   "id": "b2ecb840",
   "metadata": {},
   "outputs": [
    {
     "name": "stdout",
     "output_type": "stream",
     "text": [
      "Mercedes Benz GLK has started\n",
      "None\n",
      "please select a gear4\n",
      "Gear 4 selected\n",
      "None\n",
      "Nitro On, ready for maximum Acceleration\n",
      "None\n",
      "Mercedes Benz GLK has stopped, simulation over\n",
      "None\n"
     ]
    }
   ],
   "source": [
    "class new_car(car_simulation):\n",
    "    def openroof(self, ch):\n",
    "        if ch == 1:\n",
    "            print('Roof Open')\n",
    "        elif ch == 2:\n",
    "            print('Roof Closed')\n",
    "        else:\n",
    "            print('Roof option not recognized')\n",
    "car2 = new_car('Mercedes Benz','GLK','Black',2021,400)\n",
    "print(car2.start())\n",
    "print(car2.gear())\n",
    "print(car2.accelerate(1))\n",
    "print(car2.stop())"
   ]
  },
  {
   "cell_type": "code",
   "execution_count": null,
   "id": "5a93e3b7",
   "metadata": {},
   "outputs": [],
   "source": []
  },
  {
   "cell_type": "code",
   "execution_count": null,
   "id": "79d774f4",
   "metadata": {},
   "outputs": [],
   "source": []
  }
 ],
 "metadata": {
  "kernelspec": {
   "display_name": "Python 3 (ipykernel)",
   "language": "python",
   "name": "python3"
  },
  "language_info": {
   "codemirror_mode": {
    "name": "ipython",
    "version": 3
   },
   "file_extension": ".py",
   "mimetype": "text/x-python",
   "name": "python",
   "nbconvert_exporter": "python",
   "pygments_lexer": "ipython3",
   "version": "3.9.12"
  }
 },
 "nbformat": 4,
 "nbformat_minor": 5
}
